{
 "cells": [
  {
   "cell_type": "code",
   "execution_count": 2,
   "metadata": {},
   "outputs": [],
   "source": [
    "import matplotlib.pyplot as plt\n",
    "import numpy as np\n",
    "\n",
    "from l5kit.data import ChunkedDataset, LocalDataManager\n",
    "from l5kit.dataset import EgoDataset, AgentDataset\n",
    "from l5kit.rasterization import build_rasterizer\n",
    "from l5kit.configs import load_config_data\n",
    "\n",
    "import os"
   ]
  },
  {
   "cell_type": "code",
   "execution_count": 3,
   "metadata": {},
   "outputs": [
    {
     "data": {
      "text/plain": [
       "<l5kit.data.zarr_dataset.ChunkedDataset at 0x12b301499d0>"
      ]
     },
     "execution_count": 3,
     "metadata": {},
     "output_type": "execute_result"
    }
   ],
   "source": [
    "# opening the zarr_dataset\n",
    "os.environ[\"L5KIT_DATA_FOLDER\"] = \"../../prediction-dataset/\"\n",
    "cfg = load_config_data(\"./visualisation_config.yaml\")\n",
    "dm = LocalDataManager()\n",
    "dataset_path = dm.require(cfg[\"val_data_loader\"][\"key\"])\n",
    "zarr_dataset = ChunkedDataset(dataset_path)\n",
    "zarr_dataset.open()"
   ]
  },
  {
   "cell_type": "code",
   "execution_count": 4,
   "metadata": {},
   "outputs": [],
   "source": [
    "# using EgoDataset interface to extract AV data\n",
    "rast = build_rasterizer(cfg, dm)\n",
    "ego_dataset = EgoDataset(cfg, zarr_dataset, rast)\n",
    "# agent_dataset = AgentDataset(cfg, zarr_dataset, rast)"
   ]
  },
  {
   "cell_type": "code",
   "execution_count": 16,
   "metadata": {},
   "outputs": [
    {
     "name": "stdout",
     "output_type": "stream",
     "text": [
      "([  0, 248], 'host-a013', 1572643684617362176, 1572643709617362176)\n"
     ]
    }
   ],
   "source": [
    "# checking which frames belong to the scene 0 to know which frames to analyze\n",
    "print(zarr_dataset.scenes[0])\n",
    "# for i in range(len(zarr_dataset.scenes)):\n",
    "#     print(zarr_dataset.scenes[i][0][0], zarr_dataset.scenes[i][0][1])"
   ]
  },
  {
   "cell_type": "code",
   "execution_count": 19,
   "metadata": {},
   "outputs": [
    {
     "name": "stdout",
     "output_type": "stream",
     "text": [
      "[[0, 248], [248, 497], [497, 746], [746, 995], [995, 1244], [1244, 1493], [1493, 1742], [1742, 1991], [1991, 2240], [2240, 2489], [2489, 2738], [2738, 2987], [2987, 3236], [3236, 3485], [3485, 3734], [3734, 3983], [3983, 4232], [4232, 4481], [4481, 4730], [4730, 4979], [4979, 5228], [5228, 5477], [5477, 5725], [5725, 5973], [5973, 6221], [6221, 6469], [6469, 6717], [6717, 6965], [6965, 7213], [7213, 7461], [7461, 7709], [7709, 7957], [7957, 8205], [8205, 8453], [8453, 8701], [8701, 8949], [8949, 9197], [9197, 9445], [9445, 9693], [9693, 9941], [9941, 10189], [10189, 10437], [10437, 10685], [10685, 10933], [10933, 11182], [11182, 11431], [11431, 11680], [11680, 11929], [11929, 12177], [12177, 12425], [12425, 12673], [12673, 12921], [12921, 13169], [13169, 13417], [13417, 13665], [13665, 13913], [13913, 14161], [14161, 14409], [14409, 14657], [14657, 14905], [14905, 15153], [15153, 15401], [15401, 15649], [15649, 15897], [15897, 16145], [16145, 16393], [16393, 16641], [16641, 16889], [16889, 17137], [17137, 17385], [17385, 17633], [17633, 17881], [17881, 18129], [18129, 18377], [18377, 18625], [18625, 18874], [18874, 19123], [19123, 19372], [19372, 19621], [19621, 19870], [19870, 20118], [20118, 20366], [20366, 20614], [20614, 20862], [20862, 21110], [21110, 21358], [21358, 21607], [21607, 21856], [21856, 22105], [22105, 22354], [22354, 22603], [22603, 22852], [22852, 23101], [23101, 23350], [23350, 23598], [23598, 23846], [23846, 24094], [24094, 24342], [24342, 24590], [24590, 24838]]\n"
     ]
    }
   ],
   "source": [
    "# scene_frame_indexes = []\n",
    "# for i in range(len(zarr_dataset.scenes)):\n",
    "#     scene_frame_indexes.append([zarr_dataset.scenes[i][0][0], zarr_dataset.scenes[i][0][1]])\n",
    "\n",
    "# print(scene_frame_indexes)"
   ]
  },
  {
   "cell_type": "code",
   "execution_count": 6,
   "metadata": {},
   "outputs": [],
   "source": [
    "# extracting position information from ego dataset\n",
    "position = []\n",
    "# low = scene_frame_indexes[0][0]\n",
    "# high = scene_frame_indexes[0][1]\n",
    "for i in range(0, 248):\n",
    "    position.append(ego_dataset[i][\"centroid\"])"
   ]
  },
  {
   "cell_type": "code",
   "execution_count": 7,
   "metadata": {},
   "outputs": [
    {
     "name": "stdout",
     "output_type": "stream",
     "text": [
      "x variance: 2759.868110530938 , y variance: 6374.833443842314\n",
      "x std dev: 52.534446894689374 y std dev: 79.84255409142618\n"
     ]
    }
   ],
   "source": [
    "#calculating variance and standard deviation of x and y position data\n",
    "\n",
    "xsum = 0\n",
    "ysum = 0\n",
    "\n",
    "for i in range(len(position)):\n",
    "    xsum += position[i][0]\n",
    "    ysum += position[i][1]\n",
    "\n",
    "xsum /= len(position)\n",
    "ysum /= len(position)\n",
    "\n",
    "xvar = 0\n",
    "yvar = 0\n",
    "\n",
    "for i in range(len(position)):\n",
    "    xvar += ((position[i][0] - xsum)**2)\n",
    "    yvar += ((position[i][1] - ysum)**2)\n",
    "\n",
    "xvar /= len(position) - 1\n",
    "yvar /= len(position) - 1\n",
    "\n",
    "print(\"x variance:\", xvar, \", y variance:\", yvar)\n",
    "print(\"x std dev:\", xvar**0.5, \"y std dev:\", yvar**0.5)"
   ]
  },
  {
   "cell_type": "code",
   "execution_count": 8,
   "metadata": {},
   "outputs": [],
   "source": [
    "# setting up matrices for Kalman Filter\n",
    "# initial state matrix, \"unknown\" vehicle location so we set pos, vel, acc to 0\n",
    "x = np.array([[0],\n",
    "              [0],\n",
    "              [0],\n",
    "              [0],\n",
    "              [0],\n",
    "              [0]])\n",
    "\n",
    "# since velocity and acceleration is unkown, a high estimate uncertainty is set, resulting in a high Kalman Gain\n",
    "P = np.array([[500, 0, 0, 0, 0, 0],\n",
    "              [0, 500, 0, 0, 0, 0],\n",
    "              [0, 0, 500, 0, 0, 0],\n",
    "              [0, 0, 0, 500, 0, 0],\n",
    "              [0, 0, 0, 0, 500, 0],\n",
    "              [0, 0, 0, 0, 0, 500]])\n",
    "\n",
    "# t = measurement period / delta time in seconds\n",
    "t = 1\n",
    "acc_std_dev = 0.2\n",
    "\n",
    "# state transition matrix, kinematic equations for position, velocity, and acceleration\n",
    "F = np.array([[1, t, 0.5*(t**2), 0, 0,          0], \n",
    "              [0, 1,          t, 0, 0,          0], \n",
    "              [0, 0,          1, 0, 0,          0], \n",
    "              [0, 0,          0, 1, t, 0.5*(t**2)], \n",
    "              [0, 0,          0, 0, 1,          t], \n",
    "              [0, 0,          0, 0, 0,          1]])\n",
    "\n",
    "# process noise matrix\n",
    "Q = np.array([[0.25, 0.5, 0.5,    0,   0,   0], \n",
    "              [ 0.5,   1,   1,    0,   0,   0], \n",
    "              [ 0.5,   1,   1,    0,   0,   0],\n",
    "              [   0,   0,   0, 0.25, 0.5, 0.5],\n",
    "              [   0,   0,   0,  0.5,   1,   1],\n",
    "              [   0,   0,   0,  0.5,   1,   1]]) * (acc_std_dev**2)\n",
    "\n",
    "# measurement uncertainty matrix\n",
    "R = np.array([[xvar, 0], \n",
    "              [0, yvar]])\n",
    "\n",
    "H = np.array([[1, 0, 0, 0, 0, 0], \n",
    "              [0, 0, 0, 1, 0, 0]])\n",
    "\n",
    "I = np.array([[1, 0, 0, 0, 0, 0],\n",
    "              [0, 1, 0, 0, 0, 0],\n",
    "              [0, 0, 1, 0, 0, 0],\n",
    "              [0, 0, 0, 1, 0, 0],\n",
    "              [0, 0, 0, 0, 1, 0],\n",
    "              [0, 0, 0, 0, 0, 1]])"
   ]
  },
  {
   "cell_type": "code",
   "execution_count": 9,
   "metadata": {},
   "outputs": [
    {
     "name": "stdout",
     "output_type": "stream",
     "text": [
      "[[0.]\n",
      " [0.]\n",
      " [0.]\n",
      " [0.]\n",
      " [0.]\n",
      " [0.]]\n",
      "[[1125.01  750.02  250.02    0.      0.      0.  ]\n",
      " [ 750.02 1000.04  500.04    0.      0.      0.  ]\n",
      " [ 250.02  500.04  500.04    0.      0.      0.  ]\n",
      " [   0.      0.      0.   1125.01  750.02  250.02]\n",
      " [   0.      0.      0.    750.02 1000.04  500.04]\n",
      " [   0.      0.      0.    250.02  500.04  500.04]]\n"
     ]
    }
   ],
   "source": [
    "# initialization\n",
    "x = np.matmul(F, x)\n",
    "P = np.matmul(np.matmul(F, P), np.transpose(F)) + Q\n",
    "print(x)\n",
    "print(P)"
   ]
  },
  {
   "cell_type": "code",
   "execution_count": 23,
   "metadata": {},
   "outputs": [],
   "source": [
    "def kalmanFilter(measurements, iterations, x, P, R, H, Q, I):\n",
    "    for i in range(iterations):\n",
    "        z = np.array([[measurements[i][0]],\n",
    "                      [measurements[i][1]]])\n",
    "        \n",
    "        # Kalman Gain calculation\n",
    "        # K = (P * H_T) * (H * P * H_T + R)^-1\n",
    "        K = np.matmul(np.matmul(P, np.transpose(H)), \n",
    "                      np.linalg.inv(np.matmul(np.matmul(H, P), np.transpose(H)) + R))\n",
    "\n",
    "        # current state estimation\n",
    "        # x = x + K * (z - H * x)\n",
    "        x = x + np.matmul(K, (z - np.matmul(H, x)))\n",
    "\n",
    "        # update estimate uncertainty\n",
    "        # P = (I - K * H) * P * (I - K * H)_T + K * R * K_T\n",
    "        # IKH = (I - K * H)\n",
    "        IKH = I - np.matmul(K, H)\n",
    "        P = np.matmul(np.matmul(IKH, P), np.transpose(IKH)) + np.matmul(np.matmul(K, R), np.transpose(K))\n",
    "\n",
    "        # predict state and update estimate uncertainty\n",
    "        # x = F * x\n",
    "        # P = F * P * F_T + Q\n",
    "        x = np.matmul(F, x)\n",
    "        P = np.matmul(np.matmul(F, P), np.transpose(F)) + Q \n",
    "    return (x, P, R, H, Q)"
   ]
  },
  {
   "cell_type": "code",
   "execution_count": 35,
   "metadata": {},
   "outputs": [
    {
     "data": {
      "text/plain": [
       "(array([[  570.17622605],\n",
       "        [  -88.06447995],\n",
       "        [  -23.18684203],\n",
       "        [-2169.51262827],\n",
       "        [  121.69639899],\n",
       "        [   53.26295786]]),\n",
       " array([[2715.51710142,  826.31605357,  107.07101473,    0.        ,\n",
       "            0.        ,    0.        ],\n",
       "        [ 826.31605357,  311.05098261,   44.23601048,    0.        ,\n",
       "            0.        ,    0.        ],\n",
       "        [ 107.07101473,   44.23601048,    6.66678403,    0.        ,\n",
       "            0.        ,    0.        ],\n",
       "        [   0.        ,    0.        ,    0.        , 5682.01885384,\n",
       "         1620.3607484 ,  201.03095817],\n",
       "        [   0.        ,    0.        ,    0.        , 1620.3607484 ,\n",
       "          575.32097591,   78.5477166 ],\n",
       "        [   0.        ,    0.        ,    0.        ,  201.03095817,\n",
       "           78.5477166 ,   11.2731174 ]]),\n",
       " array([[2759.86811053,    0.        ],\n",
       "        [   0.        , 6374.83344384]]),\n",
       " array([[1, 0, 0, 0, 0, 0],\n",
       "        [0, 0, 0, 1, 0, 0]]),\n",
       " array([[0.01, 0.02, 0.02, 0.  , 0.  , 0.  ],\n",
       "        [0.02, 0.04, 0.04, 0.  , 0.  , 0.  ],\n",
       "        [0.02, 0.04, 0.04, 0.  , 0.  , 0.  ],\n",
       "        [0.  , 0.  , 0.  , 0.01, 0.02, 0.02],\n",
       "        [0.  , 0.  , 0.  , 0.02, 0.04, 0.04],\n",
       "        [0.  , 0.  , 0.  , 0.02, 0.04, 0.04]]))"
      ]
     },
     "execution_count": 35,
     "metadata": {},
     "output_type": "execute_result"
    }
   ],
   "source": [
    "kalmanFilter(measurements=position, iterations=10, x=x, P=P, R=R, H=H, Q=Q, I=I)"
   ]
  },
  {
   "cell_type": "code",
   "execution_count": 36,
   "metadata": {},
   "outputs": [
    {
     "data": {
      "text/plain": [
       "array([  686.55358887, -2174.33203125])"
      ]
     },
     "execution_count": 36,
     "metadata": {},
     "output_type": "execute_result"
    }
   ],
   "source": [
    "position[10]"
   ]
  }
 ],
 "metadata": {
  "kernelspec": {
   "display_name": "Python 3.8.8 ('base')",
   "language": "python",
   "name": "python3"
  },
  "language_info": {
   "codemirror_mode": {
    "name": "ipython",
    "version": 3
   },
   "file_extension": ".py",
   "mimetype": "text/x-python",
   "name": "python",
   "nbconvert_exporter": "python",
   "pygments_lexer": "ipython3",
   "version": "3.8.8"
  },
  "orig_nbformat": 4,
  "vscode": {
   "interpreter": {
    "hash": "8e7af5626c7e654314ce176c299bd4d61dd6a36e86a9674195997ac339225326"
   }
  }
 },
 "nbformat": 4,
 "nbformat_minor": 2
}
