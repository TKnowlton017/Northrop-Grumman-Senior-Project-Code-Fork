{
 "cells": [
  {
   "cell_type": "code",
   "execution_count": 21,
   "metadata": {},
   "outputs": [],
   "source": [
    "import matplotlib.pyplot as plt\n",
    "import numpy as np\n",
    "\n",
    "from l5kit.data import ChunkedDataset, LocalDataManager\n",
    "from l5kit.dataset import EgoDataset, AgentDataset\n",
    "from l5kit.rasterization import build_rasterizer\n",
    "from l5kit.configs import load_config_data\n",
    "\n",
    "import os"
   ]
  },
  {
   "cell_type": "code",
   "execution_count": 22,
   "metadata": {},
   "outputs": [
    {
     "data": {
      "text/plain": [
       "<l5kit.data.zarr_dataset.ChunkedDataset at 0x1a46f210ac0>"
      ]
     },
     "execution_count": 22,
     "metadata": {},
     "output_type": "execute_result"
    }
   ],
   "source": [
    "# opening the zarr_dataset\n",
    "os.environ[\"L5KIT_DATA_FOLDER\"] = \"../../prediction-dataset/\"\n",
    "cfg = load_config_data(\"./visualisation_config.yaml\")\n",
    "dm = LocalDataManager()\n",
    "dataset_path = dm.require(cfg[\"val_data_loader\"][\"key\"])\n",
    "zarr_dataset = ChunkedDataset(dataset_path)\n",
    "zarr_dataset.open()"
   ]
  },
  {
   "cell_type": "code",
   "execution_count": 23,
   "metadata": {},
   "outputs": [],
   "source": [
    "# using EgoDataset interface to extract AV data\n",
    "rast = build_rasterizer(cfg, dm)\n",
    "ego_dataset = EgoDataset(cfg, zarr_dataset, rast)\n",
    "# agent_dataset = AgentDataset(cfg, zarr_dataset, rast)"
   ]
  },
  {
   "cell_type": "code",
   "execution_count": 24,
   "metadata": {},
   "outputs": [
    {
     "name": "stdout",
     "output_type": "stream",
     "text": [
      "([  0, 248], 'host-a013', 1572643684617362176, 1572643709617362176)\n"
     ]
    }
   ],
   "source": [
    "# checking which frames belong to the scene 0 to know which frames to analyze\n",
    "print(zarr_dataset.scenes[0])\n",
    "# for i in range(len(zarr_dataset.scenes)):\n",
    "#     print(zarr_dataset.scenes[i][0][0], zarr_dataset.scenes[i][0][1])"
   ]
  },
  {
   "cell_type": "code",
   "execution_count": 25,
   "metadata": {},
   "outputs": [],
   "source": [
    "# scene_frame_indexes = []\n",
    "# for i in range(len(zarr_dataset.scenes)):\n",
    "#     scene_frame_indexes.append([zarr_dataset.scenes[i][0][0], zarr_dataset.scenes[i][0][1]])\n",
    "\n",
    "# print(scene_frame_indexes)"
   ]
  },
  {
   "cell_type": "code",
   "execution_count": 40,
   "metadata": {},
   "outputs": [],
   "source": [
    "# extracting position information from ego dataset\n",
    "position = []\n",
    "# low = scene_frame_indexes[0][0]\n",
    "# high = scene_frame_indexes[0][1]\n",
    "\n",
    "# for i in range(0, 248):\n",
    "#     position.append(ego_dataset[i][\"centroid\"])\n",
    "\n",
    "# measurements from Example 9 of https://www.kalmanfilter.net/multiExamples.html\n",
    "position = [[-393.66, 300.4], \n",
    "            [-375.93, 301.78], \n",
    "            [-351.04, 295.1], \n",
    "            [-328.96, 305.19], \n",
    "            [-299.35, 301.06], \n",
    "            [-273.36, 302.05], \n",
    "            [-245.89, 300], \n",
    "            [-222.58, 303.57], \n",
    "            [-198.03, 296.33], \n",
    "            [-174.17, 297.65], \n",
    "            [-146.32, 297.41], \n",
    "            [-123.72, 299.61], \n",
    "            [-103.47, 299.6], \n",
    "            [-78.23, 302.39], \n",
    "            [-52.63, 295.04], \n",
    "            [-23.34, 300.09], \n",
    "            [25.96, 294.72], \n",
    "            [49.72, 298.61], \n",
    "            [76.94, 294.64], \n",
    "            [95.38, 284.88], \n",
    "            [119.83, 272.82], \n",
    "            [144.01, 264.93], \n",
    "            [161.84, 251.46], \n",
    "            [180.56, 241.27], \n",
    "            [201.42, 222.98],\n",
    "            [222.62, 203.73],\n",
    "            [239.4, 184.1],\n",
    "            [252.51, 166.12],\n",
    "            [266.26, 138.71],\n",
    "            [271.75, 119.71],\n",
    "            [277.4, 100.41],\n",
    "            [294.12, 79.76],\n",
    "            [301.23, 50.62],\n",
    "            [291.8, 32.99],\n",
    "            [299.89, 2.14]]"
   ]
  },
  {
   "cell_type": "code",
   "execution_count": 41,
   "metadata": {},
   "outputs": [],
   "source": [
    "xvar = 3\n",
    "yvar = 3"
   ]
  },
  {
   "cell_type": "code",
   "execution_count": 47,
   "metadata": {},
   "outputs": [],
   "source": [
    "# setting up matrices for Kalman Filter\n",
    "# initial state matrix, \"unknown\" vehicle location so we set pos, vel, acc to 0\n",
    "x = np.array([[0],\n",
    "              [0],\n",
    "              [0],\n",
    "              [0],\n",
    "              [0],\n",
    "              [0]])\n",
    "\n",
    "# since velocity and acceleration is unkown, a high estimate uncertainty is set, resulting in a high Kalman Gain\n",
    "P = np.array([[500, 0, 0, 0, 0, 0],\n",
    "              [0, 500, 0, 0, 0, 0],\n",
    "              [0, 0, 500, 0, 0, 0],\n",
    "              [0, 0, 0, 500, 0, 0],\n",
    "              [0, 0, 0, 0, 500, 0],\n",
    "              [0, 0, 0, 0, 0, 500]])\n",
    "\n",
    "# t = measurement period / delta time in seconds\n",
    "t = 1\n",
    "acc_std_dev = 0.2\n",
    "\n",
    "# state transition matrix, kinematic equations for position, velocity, and acceleration\n",
    "F = np.array([[1, t, 0.5*(t**2), 0, 0,          0], \n",
    "              [0, 1,          t, 0, 0,          0], \n",
    "              [0, 0,          1, 0, 0,          0], \n",
    "              [0, 0,          0, 1, t, 0.5*(t**2)], \n",
    "              [0, 0,          0, 0, 1,          t], \n",
    "              [0, 0,          0, 0, 0,          1]])\n",
    "\n",
    "# process noise matrix\n",
    "Q = np.array([[0.25, 0.5, 0.5,    0,   0,   0], \n",
    "              [ 0.5,   1,   1,    0,   0,   0], \n",
    "              [ 0.5,   1,   1,    0,   0,   0],\n",
    "              [   0,   0,   0, 0.25, 0.5, 0.5],\n",
    "              [   0,   0,   0,  0.5,   1,   1],\n",
    "              [   0,   0,   0,  0.5,   1,   1]]) * (acc_std_dev**2)\n",
    "\n",
    "# measurement uncertainty matrix\n",
    "R = np.array([[xvar, 0], \n",
    "              [0, yvar]])\n",
    "\n",
    "H = np.array([[1, 0, 0, 0, 0, 0], \n",
    "              [0, 0, 0, 1, 0, 0]])\n",
    "\n",
    "I = np.array([[1, 0, 0, 0, 0, 0],\n",
    "              [0, 1, 0, 0, 0, 0],\n",
    "              [0, 0, 1, 0, 0, 0],\n",
    "              [0, 0, 0, 1, 0, 0],\n",
    "              [0, 0, 0, 0, 1, 0],\n",
    "              [0, 0, 0, 0, 0, 1]])"
   ]
  },
  {
   "cell_type": "code",
   "execution_count": 48,
   "metadata": {},
   "outputs": [],
   "source": [
    "# initialization\n",
    "P = np.matmul(np.matmul(F, P), np.transpose(F)) + Q\n",
    "# print(P)"
   ]
  },
  {
   "cell_type": "code",
   "execution_count": 49,
   "metadata": {},
   "outputs": [],
   "source": [
    "def kalmanFilter(measurements, iterations, x, P, R, H, Q, I):\n",
    "    for i in range(iterations):\n",
    "        z = np.array([[measurements[i][0]],\n",
    "                      [measurements[i][1]]])\n",
    "        \n",
    "        # Kalman Gain calculation\n",
    "        # K = (P * H_T) * (H * P * H_T + R)^-1\n",
    "        K = np.matmul(np.matmul(P, np.transpose(H)), \n",
    "                      np.linalg.inv(np.matmul(np.matmul(H, P), np.transpose(H)) + R))\n",
    "        print(K)\n",
    "\n",
    "        # current state estimation\n",
    "        # x = x + K * (z - H * x)\n",
    "        x = x + np.matmul(K, (z - np.matmul(H, x)))\n",
    "        print(x)\n",
    "\n",
    "        # update estimate uncertainty\n",
    "        # P = (I - K * H) * P * (I - K * H)_T + K * R * K_T\n",
    "        # IKH = (I - K * H)\n",
    "        IKH = I - np.matmul(K, H)\n",
    "        P = np.matmul(np.matmul(IKH, P), np.transpose(IKH)) + np.matmul(np.matmul(K, R), np.transpose(K))\n",
    "        print(P)\n",
    "\n",
    "        # predict state and update estimate uncertainty\n",
    "        # x = F * x\n",
    "        # P = F * P * F_T + Q\n",
    "        x = np.matmul(F, x)\n",
    "        P = np.matmul(np.matmul(F, P), np.transpose(F)) + Q \n",
    "        print(x)\n",
    "        print(P)\n",
    "    return (x, P)"
   ]
  },
  {
   "cell_type": "code",
   "execution_count": 50,
   "metadata": {},
   "outputs": [
    {
     "name": "stdout",
     "output_type": "stream",
     "text": [
      "[[0.99734045 0.        ]\n",
      " [0.66490545 0.        ]\n",
      " [0.22164697 0.        ]\n",
      " [0.         0.99734045]\n",
      " [0.         0.66490545]\n",
      " [0.         0.22164697]]\n",
      "[[-392.6130412 ]\n",
      " [-261.74668061]\n",
      " [ -87.25354669]\n",
      " [ 299.60107091]\n",
      " [ 199.73759807]\n",
      " [  66.58275015]]\n",
      "[[  2.99202135   1.99471636   0.66494091   0.           0.\n",
      "    0.        ]\n",
      " [  1.99471636 501.34761217 333.80033865   0.           0.\n",
      "    0.        ]\n",
      " [  0.66494091 333.80033865 444.62382426   0.           0.\n",
      "    0.        ]\n",
      " [  0.           0.           0.           2.99202135   1.99471636\n",
      "    0.66494091]\n",
      " [  0.           0.           0.           1.99471636 501.34761217\n",
      "  333.80033865]\n",
      " [  0.           0.           0.           0.66494091 333.80033865\n",
      "  444.62382426]]\n",
      "[[-697.98649516]\n",
      " [-349.0002273 ]\n",
      " [ -87.25354669]\n",
      " [ 532.63004406]\n",
      " [ 266.32034822]\n",
      " [  66.58275015]]\n",
      "[[ 953.96030186 1227.03968954  556.79719169    0.            0.\n",
      "     0.        ]\n",
      " [1227.03968954 1613.61211372  778.46416291    0.            0.\n",
      "     0.        ]\n",
      " [ 556.79719169  778.46416291  444.66382426    0.            0.\n",
      "     0.        ]\n",
      " [   0.            0.            0.          953.96030186 1227.03968954\n",
      "   556.79719169]\n",
      " [   0.            0.            0.         1227.03968954 1613.61211372\n",
      "   778.46416291]\n",
      " [   0.            0.            0.          556.79719169  778.46416291\n",
      "   444.66382426]]\n"
     ]
    }
   ],
   "source": [
    "a, b = kalmanFilter(measurements=position, iterations=1, x=x, P=P, R=R, H=H, Q=Q, I=I)"
   ]
  }
 ],
 "metadata": {
  "kernelspec": {
   "display_name": "Python 3.8.8 ('base')",
   "language": "python",
   "name": "python3"
  },
  "language_info": {
   "codemirror_mode": {
    "name": "ipython",
    "version": 3
   },
   "file_extension": ".py",
   "mimetype": "text/x-python",
   "name": "python",
   "nbconvert_exporter": "python",
   "pygments_lexer": "ipython3",
   "version": "3.8.8"
  },
  "orig_nbformat": 4,
  "vscode": {
   "interpreter": {
    "hash": "8e7af5626c7e654314ce176c299bd4d61dd6a36e86a9674195997ac339225326"
   }
  }
 },
 "nbformat": 4,
 "nbformat_minor": 2
}
