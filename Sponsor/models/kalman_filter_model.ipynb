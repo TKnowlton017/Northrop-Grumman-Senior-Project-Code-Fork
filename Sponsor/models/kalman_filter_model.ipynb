{
 "cells": [
  {
   "cell_type": "code",
   "execution_count": 2,
   "metadata": {},
   "outputs": [],
   "source": [
    "import matplotlib.pyplot as plt\n",
    "import numpy as np\n",
    "\n",
    "from l5kit.data import ChunkedDataset, LocalDataManager\n",
    "from l5kit.dataset import EgoDataset, AgentDataset\n",
    "from l5kit.rasterization import build_rasterizer\n",
    "from l5kit.configs import load_config_data\n",
    "\n",
    "import os"
   ]
  },
  {
   "cell_type": "code",
   "execution_count": 3,
   "metadata": {},
   "outputs": [
    {
     "data": {
      "text/plain": [
       "<l5kit.data.zarr_dataset.ChunkedDataset at 0x1f4a7edde80>"
      ]
     },
     "execution_count": 3,
     "metadata": {},
     "output_type": "execute_result"
    }
   ],
   "source": [
    "# opening the zarr_dataset\n",
    "os.environ[\"L5KIT_DATA_FOLDER\"] = \"../../prediction-dataset/\"\n",
    "os.environ[\"L5KIT_DATA_FOLDER\"] = \"../prediction-sample-dataset/\"\n",
    "cfg = load_config_data(\"./visualisation_config.yaml\")\n",
    "dm = LocalDataManager()\n",
    "dataset_path = dm.require(cfg[\"val_data_loader\"][\"key\"])\n",
    "zarr_dataset = ChunkedDataset(dataset_path)\n",
    "zarr_dataset.open()"
   ]
  },
  {
   "cell_type": "code",
   "execution_count": 4,
   "metadata": {},
   "outputs": [],
   "source": [
    "# using EgoDataset interface to extract AV data\n",
    "rast = build_rasterizer(cfg, dm)\n",
    "ego_dataset = EgoDataset(cfg, zarr_dataset, rast)"
   ]
  },
  {
   "attachments": {},
   "cell_type": "markdown",
   "metadata": {},
   "source": [
    "#### Kalman Filter Setup Function"
   ]
  },
  {
   "cell_type": "code",
   "execution_count": 5,
   "metadata": {},
   "outputs": [],
   "source": [
    "# kalmanFilterSetup() sets up the matrices needed to use the multivariate Kalman Filter\n",
    "def kalmanFilterSetup():\n",
    "\n",
    "    # setting up matrices for Kalman Filter\n",
    "    # initial state matrix, \"unknown\" vehicle location so we set pos, vel, acc to 0\n",
    "    x = np.array([[0],\n",
    "                  [0],\n",
    "                  [0],\n",
    "                  [0],\n",
    "                  [0],\n",
    "                  [0]])\n",
    "\n",
    "    # since velocity and acceleration is unknown, a high estimate uncertainty is set, resulting in a high Kalman Gain\n",
    "    # calculate these values\n",
    "    P = np.array([[100, 0, 0, 0, 0, 0],\n",
    "                  [0, 80, 0, 0, 0, 0],\n",
    "                  [0, 0, 10, 0, 0, 0],\n",
    "                  [0, 0, 0, 100, 0, 0],\n",
    "                  [0, 0, 0, 0, 80, 0],\n",
    "                  [0, 0, 0, 0, 0, 10]])\n",
    "\n",
    "    # t = measurement period in seconds\n",
    "    t = 1\n",
    "    acc_std_dev = 0.2\n",
    "\n",
    "    # state transition matrix, kinematic equations for position, velocity, and acceleration\n",
    "    F = np.array([[1, t, 0.5*(t**2), 0, 0,          0], \n",
    "                  [0, 1,          t, 0, 0,          0], \n",
    "                  [0, 0,          1, 0, 0,          0], \n",
    "                  [0, 0,          0, 1, t, 0.5*(t**2)], \n",
    "                  [0, 0,          0, 0, 1,          t], \n",
    "                  [0, 0,          0, 0, 0,          1]])\n",
    "\n",
    "    # process noise matrix\n",
    "    Q = np.array([[0.25, 0.5, 0.5,    0,   0,   0], \n",
    "                  [ 0.5,   1,   1,    0,   0,   0], \n",
    "                  [ 0.5,   1,   1,    0,   0,   0],\n",
    "                  [   0,   0,   0, 0.25, 0.5, 0.5],\n",
    "                  [   0,   0,   0,  0.5,   1,   1],\n",
    "                  [   0,   0,   0,  0.5,   1,   1]]) * (acc_std_dev**2)\n",
    "\n",
    "    # measurement error variance\n",
    "    xvar = 30\n",
    "    yvar = 30\n",
    "    \n",
    "    # measurement uncertainty matrix\n",
    "    R = np.array([[xvar, 0], \n",
    "                  [0, yvar]])\n",
    "\n",
    "    H = np.array([[1, 0, 0, 0, 0, 0], \n",
    "                  [0, 0, 0, 1, 0, 0]])\n",
    "\n",
    "    I = np.array([[1, 0, 0, 0, 0, 0],\n",
    "                  [0, 1, 0, 0, 0, 0],\n",
    "                  [0, 0, 1, 0, 0, 0],\n",
    "                  [0, 0, 0, 1, 0, 0],\n",
    "                  [0, 0, 0, 0, 1, 0],\n",
    "                  [0, 0, 0, 0, 0, 1]])\n",
    "\n",
    "    # initialization\n",
    "    P = np.matmul(np.matmul(F, P), np.transpose(F)) + Q\n",
    "    \n",
    "    return(x, F, P, R, H, Q, I,)"
   ]
  },
  {
   "attachments": {},
   "cell_type": "markdown",
   "metadata": {},
   "source": [
    "#### Kalman Filter Function"
   ]
  },
  {
   "cell_type": "code",
   "execution_count": 6,
   "metadata": {},
   "outputs": [],
   "source": [
    "# kalmanFilter() implements the Kalman Filter on the inputted measurements for the given number of iterations\n",
    "def kalmanFilter(measurements, iterations, output):\n",
    "    estimates = []\n",
    "    predictions = []\n",
    "\n",
    "    x, F, P, R, H, Q, I = kalmanFilterSetup()\n",
    "\n",
    "    for i in range(iterations):\n",
    "        z = np.array([[measurements[i][0]],\n",
    "                      [measurements[i][1]]])\n",
    "        if output: print(z)\n",
    "        \n",
    "        # Kalman Gain calculation\n",
    "        # K = (P * H_T) * (H * P * H_T + R)^-1\n",
    "        K = np.matmul(np.matmul(P, np.transpose(H)), \n",
    "                      np.linalg.inv(np.matmul(np.matmul(H, P), np.transpose(H)) + R))\n",
    "        if output: print(K)\n",
    "\n",
    "        # current state estimation\n",
    "        # x = x + K * (z - H * x)\n",
    "        x = x + np.matmul(K, (z - np.matmul(H, x)))\n",
    "        estimates.append([x[0][0],x[3][0]])\n",
    "        if output: print(x)\n",
    "\n",
    "        # update estimate uncertainty\n",
    "        # P = (I - K * H) * P * (I - K * H)_T + K * R * K_T\n",
    "        # IKH = (I - K * H)\n",
    "        IKH = I - np.matmul(K, H)\n",
    "        P = np.matmul(np.matmul(IKH, P), np.transpose(IKH)) + np.matmul(np.matmul(K, R), np.transpose(K))\n",
    "        if output: print(P)\n",
    "\n",
    "        # predict state and update estimate uncertainty\n",
    "        # x = F * x\n",
    "        # P = F * P * F_T + Q\n",
    "        x = np.matmul(F, x)\n",
    "        P = np.matmul(np.matmul(F, P), np.transpose(F)) + Q \n",
    "        predictions.append([x[0][0],x[3][0]])\n",
    "        if output: print(x)\n",
    "        if output: print(P)\n",
    "\n",
    "    # formatting\n",
    "    estimates = np.array(estimates)\n",
    "    predictions = np.array(predictions)\n",
    "    \n",
    "    return (estimates, predictions)"
   ]
  },
  {
   "attachments": {},
   "cell_type": "markdown",
   "metadata": {},
   "source": [
    "#### Plotting function"
   ]
  },
  {
   "cell_type": "code",
   "execution_count": 7,
   "metadata": {},
   "outputs": [],
   "source": [
    "# plotData() plots the measured data, as well as the estimates and predictions from the Kalman Filter, and plots them on a scatter plot\n",
    "\n",
    "# plot ellipse estimate/prediction covariance\n",
    "def plotData(measurements, estimates, predictions):\n",
    "    \n",
    "    measurements_x = [pos[0] for pos in measurements]\n",
    "    measurements_y = [pos[1] for pos in measurements]\n",
    "\n",
    "    estimates_x = [estimate[0] for estimate in estimates]\n",
    "    estimates_y = [estimate[1] for estimate in estimates]\n",
    "\n",
    "    predictions_x = [prediction[0] for prediction in predictions]\n",
    "    predictions_y = [prediction[1] for prediction in predictions]\n",
    "\n",
    "    fig, ax = plt.subplots()\n",
    "    ax.scatter(measurements_x, measurements_y, label=\"measurements\", s=10, alpha=0.8)\n",
    "    ax.scatter(estimates_x, estimates_y, label=\"estimates\", s=8, alpha=0.5)\n",
    "    ax.scatter(predictions_x, predictions_y, label=\"predictions\", s=8, alpha=0.5)\n",
    "    ax.legend()\n",
    "    fig.set_size_inches(10, 5)\n",
    "    plt.show()"
   ]
  },
  {
   "attachments": {},
   "cell_type": "markdown",
   "metadata": {},
   "source": [
    "#### Extracting scene indices from the l5kit dataset"
   ]
  },
  {
   "cell_type": "code",
   "execution_count": 8,
   "metadata": {},
   "outputs": [],
   "source": [
    "scene_frame_indices = []\n",
    "scene_frame_indices = zarr_dataset.scenes[:][\"frame_index_interval\"]\n",
    "# print(scene_frame_indices)\n",
    "\n",
    "#print(zarr_dataset.frames[slice(0, 248)][\"ego_translation\"])"
   ]
  },
  {
   "attachments": {},
   "cell_type": "markdown",
   "metadata": {},
   "source": [
    "#### Mean-squared error"
   ]
  },
  {
   "cell_type": "code",
   "execution_count": 9,
   "metadata": {},
   "outputs": [],
   "source": [
    "def mse(position, prediction):\n",
    "    position = np.array(position)\n",
    "    prediction = np.array(prediction)\n",
    "    return np.square(np.subtract(position, prediction)).mean(axis=0)"
   ]
  },
  {
   "attachments": {},
   "cell_type": "markdown",
   "metadata": {},
   "source": [
    "#### Weighted mean-squared error"
   ]
  },
  {
   "cell_type": "code",
   "execution_count": 10,
   "metadata": {},
   "outputs": [],
   "source": [
    "# https://www.geeksforgeeks.org/how-to-implement-weighted-mean-square-error-in-python/#:~:text=Weighted%20mean%20square%20error%20enables,be%20a%20vital%20performance%20metric.\n",
    "def wmse(position, prediction):\n",
    "    position = np.array(position)\n",
    "    prediction = np.array(prediction)\n",
    "    weights = np.array([1/(len(position)-x) for x in range(len(position))])\n",
    "    weights = weights/weights.sum()\n",
    "    weights = [[weight, weight] for weight in weights]\n",
    "\n",
    "    return (np.square(np.subtract(position, prediction))*weights).sum(axis=0)"
   ]
  },
  {
   "cell_type": "code",
   "execution_count": 11,
   "metadata": {},
   "outputs": [],
   "source": [
    "START_FRAME = 0\n",
    "END_FRAME = 1\n",
    "#mse = (1/n) * sum(actual-prediction)^2\n",
    "mse_values = []\n",
    "wmse_values = []\n",
    "\n",
    "for scene in scene_frame_indices:\n",
    "    positions = []\n",
    "    #get position of ego vehicle at every frame\n",
    "    positions = zarr_dataset.frames[slice(scene[START_FRAME], scene[END_FRAME])][\"ego_translation\"]\n",
    "    positions = [[pos[0], pos[1]] for pos in positions]\n",
    "\n",
    "    estimates, predictions = kalmanFilter(measurements=positions, iterations=len(positions), output=False)\n",
    "    # calculate mean-squared error between measure:estimate and measure:prediction and store values\n",
    "    mse_values.append([mse(positions, predictions)[0], mse(positions, predictions)[1]])\n",
    "    wmse_values.append([wmse(positions, predictions)[0], wmse(positions, predictions)[1]])\n",
    "# print(mse_values, wmse_values)"
   ]
  },
  {
   "cell_type": "code",
   "execution_count": 12,
   "metadata": {},
   "outputs": [],
   "source": [
    "x_error = [error[0] for error in mse_values]\n",
    "y_error = [error[1] for error in mse_values]\n",
    "\n",
    "x_error_w =  [error[0] for error in wmse_values]\n",
    "y_error_w =  [error[1] for error in wmse_values]"
   ]
  },
  {
   "cell_type": "code",
   "execution_count": 13,
   "metadata": {},
   "outputs": [
    {
     "data": {
      "image/png": "[encoded data removed]",
      "text/plain": [
       "<Figure size 640x480 with 1 Axes>"
      ]
     },
     "metadata": {},
     "output_type": "display_data"
    }
   ],
   "source": [
    "plt.hist([x_error, y_error], label=['x', 'y'], color=['blue', 'red'], bins=15)\n",
    "plt.legend()\n",
    "plt.title(\"Mean-squared error of Kalman Filter on 100 scenes\")\n",
    "plt.xlabel('Error (in meters)')\n",
    "plt.ylabel('Count')\n",
    "plt.show()"
   ]
  },
  {
   "cell_type": "code",
   "execution_count": 14,
   "metadata": {},
   "outputs": [
    {
     "data": {
      "image/png": "[encoded data removed]",
      "text/plain": [
       "<Figure size 640x480 with 1 Axes>"
      ]
     },
     "metadata": {},
     "output_type": "display_data"
    }
   ],
   "source": [
    "plt.hist([x_error_w, y_error_w], label=['x', 'y'], color=['blue', 'red'], bins=15)\n",
    "plt.legend()\n",
    "plt.title(\"Weighted mean-squared error of Kalman Filter on 100 scenes\")\n",
    "plt.xlabel('Error (in meters)')\n",
    "plt.ylabel('Count')\n",
    "plt.show()"
   ]
  },
  {
   "attachments": {},
   "cell_type": "markdown",
   "metadata": {},
   "source": [
    "#### Optimizing data access "
   ]
  },
  {
   "cell_type": "code",
   "execution_count": null,
   "metadata": {},
   "outputs": [],
   "source": [
    "# OLD CALCULATION\n",
    "position_AV = []\n",
    "for i in range(0, 248):\n",
    "    position_AV.append([ego_dataset[i][\"centroid\"][0], ego_dataset[i][\"centroid\"][1]])\n",
    "\n",
    "# OPTIMIZED CALCULATION\n",
    "positions = zarr_dataset.frames[slice(scene[START_FRAME], scene[END_FRAME])][\"ego_translation\"]\n",
    "positions = [[pos[0], pos[1]] for pos in positions]"
   ]
  },
  {
   "cell_type": "code",
   "execution_count": null,
   "metadata": {},
   "outputs": [],
   "source": [
    "# OLD\n",
    "scene_frame_indices = []\n",
    "for i in range(len(zarr_dataset.scenes)):\n",
    "    scene_frame_indices.append([zarr_dataset.scenes[i][0][0], zarr_dataset.scenes[i][0][1]])\n",
    "    \n",
    "# OPTIMIZED\n",
    "scene_frame_indices = []\n",
    "scene_frame_indices = zarr_dataset.scenes[:][\"frame_index_interval\"]"
   ]
  },
  {
   "attachments": {},
   "cell_type": "markdown",
   "metadata": {},
   "source": [
    "#### Example: Plotting Kalman Filter of Scene 1"
   ]
  },
  {
   "cell_type": "code",
   "execution_count": null,
   "metadata": {},
   "outputs": [],
   "source": [
    "position_AV = []\n",
    "for i in range(0, 248):\n",
    "    position_AV.append([ego_dataset[i][\"centroid\"][0], ego_dataset[i][\"centroid\"][1]])"
   ]
  },
  {
   "cell_type": "code",
   "execution_count": null,
   "metadata": {},
   "outputs": [],
   "source": [
    "estimates_AV, predictions_AV = kalmanFilter(measurements=position_AV, iterations=len(position_AV), output=False)"
   ]
  },
  {
   "cell_type": "code",
   "execution_count": null,
   "metadata": {},
   "outputs": [],
   "source": [
    "plotData(measurements=position_AV, estimates=estimates_AV, predictions=predictions_AV)"
   ]
  }
 ],
 "metadata": {
  "kernelspec": {
   "display_name": "Python 3.8.8 ('base')",
   "language": "python",
   "name": "python3"
  },
  "language_info": {
   "codemirror_mode": {
    "name": "ipython",
    "version": 3
   },
   "file_extension": ".py",
   "mimetype": "text/x-python",
   "name": "python",
   "nbconvert_exporter": "python",
   "pygments_lexer": "ipython3",
   "version": "3.8.8"
  },
  "orig_nbformat": 4,
  "vscode": {
   "interpreter": {
    "hash": "8e7af5626c7e654314ce176c299bd4d61dd6a36e86a9674195997ac339225326"
   }
  }
 },
 "nbformat": 4,
 "nbformat_minor": 2
}
