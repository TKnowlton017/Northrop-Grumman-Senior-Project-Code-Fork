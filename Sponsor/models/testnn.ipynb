{
  "cells": [
    {
      "cell_type": "code",
      "execution_count": 44,
      "id": "29ab05d0",
      "metadata": {},
      "outputs": [],
      "source": [
        "import torch\n",
        "import torch.nn as nn\n",
        "import pandas as pd\n",
        "import numpy as np\n",
        "from dateutil.parser import parse\n",
        "import torch.nn.functional as F\n",
        "from torch.utils.data import DataLoader, random_split, TensorDataset\n",
        "import matplotlib.pyplot as plt\n",
        "from l5kit.configs import load_config_data\n",
        "from l5kit.data import LocalDataManager, ChunkedDataset\n",
        "from l5kit.dataset import AgentDataset, EgoDataset\n",
        "from l5kit.rasterization import build_rasterizer\n",
        "from l5kit.evaluation import write_pred_csv, compute_metrics_csv, read_gt_csv, create_chopped_dataset\n",
        "from l5kit.evaluation.chop_dataset import MIN_FUTURE_STEPS\n",
        "from l5kit.evaluation.metrics import neg_multi_log_likelihood, time_displace\n",
        "from l5kit.geometry import transform_points\n",
        "from l5kit.visualization import PREDICTED_POINTS_COLOR, TARGET_POINTS_COLOR, draw_trajectory\n",
        "from prettytable import PrettyTable\n",
        "from pathlib import Path\n",
        "\n",
        "import os\n",
        "\n",
        "#device = 'cuda' if torch.cuda.is_available() else 'cpu'\n",
        "device = 'cpu'"
      ]
    },
    {
      "cell_type": "code",
      "execution_count": 45,
      "id": "4ea11915",
      "metadata": {},
      "outputs": [
        {
          "name": "stdout",
          "output_type": "stream",
          "text": [
            "+------------+------------+------------+---------------+-----------------+----------------------+----------------------+----------------------+---------------------+\n",
            "| Num Scenes | Num Frames | Num Agents | Num TR lights | Total Time (hr) | Avg Frames per Scene | Avg Agents per Frame | Avg Scene Time (sec) | Avg Frame frequency |\n",
            "+------------+------------+------------+---------------+-----------------+----------------------+----------------------+----------------------+---------------------+\n",
            "|    100     |   24838    |  1893736   |     316008    |       0.69      |        248.38        |        76.24         |        24.83         |        10.00        |\n",
            "+------------+------------+------------+---------------+-----------------+----------------------+----------------------+----------------------+---------------------+\n"
          ]
        }
      ],
      "source": [
        "# opening the zarr_dataset\n",
        "os.environ[\"L5KIT_DATA_FOLDER\"] = \"../../../prediction-dataset/\"\n",
        "#os.environ[\"L5KIT_DATA_FOLDER\"] = \"../prediction-sample-dataset/\"\n",
        "cfg = load_config_data(\"./visualisation_config.yaml\")\n",
        "dm = LocalDataManager()\n",
        "dataset_path = dm.require(cfg[\"val_data_loader\"][\"key\"])\n",
        "zarr_dataset = ChunkedDataset(dataset_path)\n",
        "zarr_dataset.open()\n",
        "\n",
        "# using EgoDataset interface to extract AV data\n",
        "rast = build_rasterizer(cfg, dm)\n",
        "ego_dataset = EgoDataset(cfg, zarr_dataset, rast)\n",
        "print(ego_dataset)\n",
        "# agent_dataset = AgentDataset(cfg, zarr_dataset, rast)"
      ]
    },
    {
      "cell_type": "code",
      "execution_count": 4,
      "id": "9c971117",
      "metadata": {},
      "outputs": [
        {
          "name": "stdout",
          "output_type": "stream",
          "text": [
            "[[    0   248]\n",
            " [  248   497]\n",
            " [  497   746]\n",
            " [  746   995]\n",
            " [  995  1244]\n",
            " [ 1244  1493]\n",
            " [ 1493  1742]\n",
            " [ 1742  1991]\n",
            " [ 1991  2240]\n",
            " [ 2240  2489]\n",
            " [ 2489  2738]\n",
            " [ 2738  2987]\n",
            " [ 2987  3236]\n",
            " [ 3236  3485]\n",
            " [ 3485  3734]\n",
            " [ 3734  3983]\n",
            " [ 3983  4232]\n",
            " [ 4232  4481]\n",
            " [ 4481  4730]\n",
            " [ 4730  4979]\n",
            " [ 4979  5228]\n",
            " [ 5228  5477]\n",
            " [ 5477  5725]\n",
            " [ 5725  5973]\n",
            " [ 5973  6221]\n",
            " [ 6221  6469]\n",
            " [ 6469  6717]\n",
            " [ 6717  6965]\n",
            " [ 6965  7213]\n",
            " [ 7213  7461]\n",
            " [ 7461  7709]\n",
            " [ 7709  7957]\n",
            " [ 7957  8205]\n",
            " [ 8205  8453]\n",
            " [ 8453  8701]\n",
            " [ 8701  8949]\n",
            " [ 8949  9197]\n",
            " [ 9197  9445]\n",
            " [ 9445  9693]\n",
            " [ 9693  9941]\n",
            " [ 9941 10189]\n",
            " [10189 10437]\n",
            " [10437 10685]\n",
            " [10685 10933]\n",
            " [10933 11182]\n",
            " [11182 11431]\n",
            " [11431 11680]\n",
            " [11680 11929]\n",
            " [11929 12177]\n",
            " [12177 12425]\n",
            " [12425 12673]\n",
            " [12673 12921]\n",
            " [12921 13169]\n",
            " [13169 13417]\n",
            " [13417 13665]\n",
            " [13665 13913]\n",
            " [13913 14161]\n",
            " [14161 14409]\n",
            " [14409 14657]\n",
            " [14657 14905]\n",
            " [14905 15153]\n",
            " [15153 15401]\n",
            " [15401 15649]\n",
            " [15649 15897]\n",
            " [15897 16145]\n",
            " [16145 16393]\n",
            " [16393 16641]\n",
            " [16641 16889]\n",
            " [16889 17137]\n",
            " [17137 17385]\n",
            " [17385 17633]\n",
            " [17633 17881]\n",
            " [17881 18129]\n",
            " [18129 18377]\n",
            " [18377 18625]\n",
            " [18625 18874]\n",
            " [18874 19123]\n",
            " [19123 19372]\n",
            " [19372 19621]\n",
            " [19621 19870]\n",
            " [19870 20118]\n",
            " [20118 20366]\n",
            " [20366 20614]\n",
            " [20614 20862]\n",
            " [20862 21110]\n",
            " [21110 21358]\n",
            " [21358 21607]\n",
            " [21607 21856]\n",
            " [21856 22105]\n",
            " [22105 22354]\n",
            " [22354 22603]\n",
            " [22603 22852]\n",
            " [22852 23101]\n",
            " [23101 23350]\n",
            " [23350 23598]\n",
            " [23598 23846]\n",
            " [23846 24094]\n",
            " [24094 24342]\n",
            " [24342 24590]\n",
            " [24590 24838]]\n"
          ]
        }
      ],
      "source": [
        "# printing the frame ranges that make up each scene\n",
        "scene_frame_indexes = np.array([[0,0]])\n",
        "for i in range(len(zarr_dataset.scenes)):\n",
        "    scene_frame_indexes = np.append(scene_frame_indexes, [[zarr_dataset.scenes[i][0][0], zarr_dataset.scenes[i][0][1]]], axis = 0)\n",
        "    \n",
        "scene_frame_indexes = np.delete(scene_frame_indexes, 0, 0)\n",
        "print(scene_frame_indexes)"
      ]
    },
    {
      "cell_type": "code",
      "execution_count": 46,
      "id": "e7ffcb87",
      "metadata": {},
      "outputs": [],
      "source": [
        "dataset = EgoDataset(cfg, zarr_dataset, rast)\n",
        "position_AV = np.empty((len(dataset), 5), dtype=np.float32)\n",
        "output = np.empty((len(dataset), 2), dtype=np.float32)\n",
        "for i, data in enumerate(dataset):\n",
        "    position_AV[i] = [data[\"centroid\"][0], data[\"centroid\"][1], data[\"yaw\"], data[\"target_velocities\"][0][0], data[\"target_velocities\"][0][1]]\n",
        "    output[i] = [data[\"target_positions\"][0][0], data[\"target_positions\"][0][1]]\n",
        "\n"
      ]
    },
    {
      "cell_type": "code",
      "execution_count": 47,
      "id": "eb8e6681",
      "metadata": {},
      "outputs": [],
      "source": [
        "\n",
        "inputs = torch.from_numpy(position_AV)\n",
        "outputs = torch.from_numpy(output)\n",
        "inputs = inputs.to(device)\n",
        "outputs = outputs.to(device)"
      ]
    },
    {
      "cell_type": "code",
      "execution_count": 48,
      "id": "21f0edc9",
      "metadata": {},
      "outputs": [],
      "source": [
        "dataset = TensorDataset(inputs, outputs)\n",
        "val_percent = 0.2\n",
        "num_rows = len(inputs)\n",
        "val_size = int(num_rows * val_percent)\n",
        "train_size = num_rows - val_size\n",
        "train_ds, val_ds = random_split(dataset, [train_size, val_size])"
      ]
    },
    {
      "cell_type": "code",
      "execution_count": 49,
      "id": "b7e23965",
      "metadata": {},
      "outputs": [],
      "source": [
        "batch_size = 32\n",
        "train_loader = DataLoader(train_ds, batch_size, shuffle = True, num_workers = 0)\n",
        "val_loader = DataLoader(val_ds, batch_size, num_workers = 0)"
      ]
    },
    {
      "cell_type": "code",
      "execution_count": 50,
      "id": "758cfa15",
      "metadata": {},
      "outputs": [],
      "source": [
        "class NeuralNetwork(nn.Module):\n",
        "    def __init__(self):\n",
        "        super().__init__()\n",
        "        self.layers = nn.Sequential(\n",
        "            #nn.Linear(input_size, 2)\n",
        "            nn.Linear(5, 32),\n",
        "            nn.ReLU(),\n",
        "            nn.Linear(32,64),\n",
        "            nn.ReLU(),\n",
        "            nn.Linear(64,2)\n",
        "        )\n",
        "        \n",
        "    def forward(self, xb):\n",
        "        out = self.layers(xb)                       \n",
        "        return out\n",
        "    \n",
        "    def training_step(self, batch):\n",
        "        inputs, targets = batch\n",
        "        # Generate predictions\n",
        "        out = self(inputs)          \n",
        "        # Calcuate loss\n",
        "        loss = F.l1_loss(input = out, target = targets, size_average = None, reduce = None, reduction = 'mean')  \n",
        "        return loss\n",
        "    \n",
        "    def validation_step(self, batch):\n",
        "        inputs, targets = batch\n",
        "        # Generate predictions\n",
        "        out = self(inputs)\n",
        "        # Calculate loss\n",
        "        loss = F.l1_loss(input = out, target = targets, size_average = None, reduce = None, reduction = 'mean')    \n",
        "        return {'val_loss': loss.detach()}\n",
        "        \n",
        "    def validation_epoch_end(self, outputs):\n",
        "        batch_losses = [x['val_loss'] for x in outputs]\n",
        "        epoch_loss = torch.stack(batch_losses).mean()   # Combine losses\n",
        "        return {'val_loss': epoch_loss.item()}\n",
        "    \n",
        "    def epoch_end(self, epoch, result, num_epochs):\n",
        "        # Print result every 20th epoch\n",
        "        if (epoch+1) % 20 == 0 or epoch == num_epochs-1:\n",
        "            print(\"Epoch [{}], val_loss: {:.4f}\".format(epoch+1, result['val_loss']))"
      ]
    },
    {
      "cell_type": "code",
      "execution_count": 58,
      "id": "5570e605",
      "metadata": {},
      "outputs": [
        {
          "data": {
            "text/plain": [
              "NeuralNetwork(\n",
              "  (layers): Sequential(\n",
              "    (0): Linear(in_features=5, out_features=32, bias=True)\n",
              "    (1): ReLU()\n",
              "    (2): Linear(in_features=32, out_features=64, bias=True)\n",
              "    (3): ReLU()\n",
              "    (4): Linear(in_features=64, out_features=2, bias=True)\n",
              "  )\n",
              ")"
            ]
          },
          "execution_count": 58,
          "metadata": {},
          "output_type": "execute_result"
        }
      ],
      "source": [
        "model = NeuralNetwork()\n",
        "model.to(device)"
      ]
    },
    {
      "cell_type": "code",
      "execution_count": 59,
      "id": "1f314be3",
      "metadata": {},
      "outputs": [],
      "source": [
        "def evaluate(model, val_loader):\n",
        "    outputs = [model.validation_step(batch) for batch in val_loader]\n",
        "    return model.validation_epoch_end(outputs)\n",
        "\n",
        "def fit(epochs, lr, model, train_loader, val_loader, opt_func = torch.optim.SGD):\n",
        "    history = []\n",
        "    optimizer = opt_func(model.parameters(), lr)\n",
        "    for epoch in range(epochs):\n",
        "        # Training Phase \n",
        "        for batch in train_loader:\n",
        "            loss = model.training_step(batch)\n",
        "            loss.backward()\n",
        "            optimizer.step()\n",
        "            optimizer.zero_grad()\n",
        "        # Validation phase\n",
        "        result = evaluate(model, val_loader)\n",
        "        model.epoch_end(epoch, result, epochs)\n",
        "        history.append(result)\n",
        "    return history"
      ]
    },
    {
      "cell_type": "code",
      "execution_count": 60,
      "id": "5aa9860a",
      "metadata": {},
      "outputs": [
        {
          "name": "stdout",
          "output_type": "stream",
          "text": [
            "{'val_loss': 45.51491928100586}\n"
          ]
        }
      ],
      "source": [
        "result = evaluate(model, val_loader)\n",
        "print(result)"
      ]
    },
    {
      "cell_type": "code",
      "execution_count": 61,
      "id": "e97e6247",
      "metadata": {},
      "outputs": [
        {
          "name": "stdout",
          "output_type": "stream",
          "text": [
            "Epoch [20], val_loss: 0.3383\n",
            "Epoch [40], val_loss: 0.2676\n",
            "Epoch [60], val_loss: 0.2418\n",
            "Epoch [80], val_loss: 0.2079\n",
            "Epoch [100], val_loss: 0.1972\n",
            "Epoch [120], val_loss: 0.1833\n",
            "Epoch [140], val_loss: 0.1711\n",
            "Epoch [160], val_loss: 0.1775\n",
            "Epoch [180], val_loss: 0.1349\n",
            "Epoch [200], val_loss: 0.1469\n",
            "Epoch [220], val_loss: 0.1349\n",
            "Epoch [240], val_loss: 0.1178\n",
            "Epoch [260], val_loss: 0.1144\n",
            "Epoch [280], val_loss: 0.1320\n",
            "Epoch [300], val_loss: 0.1051\n",
            "Epoch [320], val_loss: 0.0903\n",
            "Epoch [340], val_loss: 0.0827\n",
            "Epoch [360], val_loss: 0.0959\n",
            "Epoch [380], val_loss: 0.1124\n",
            "Epoch [400], val_loss: 0.0978\n",
            "Epoch [420], val_loss: 0.1288\n",
            "Epoch [440], val_loss: 0.0823\n",
            "Epoch [460], val_loss: 0.1532\n",
            "Epoch [480], val_loss: 0.1448\n",
            "Epoch [500], val_loss: 0.0727\n",
            "Epoch [520], val_loss: 0.1028\n",
            "Epoch [540], val_loss: 0.0817\n",
            "Epoch [560], val_loss: 0.1067\n",
            "Epoch [580], val_loss: 0.0896\n",
            "Epoch [600], val_loss: 0.0959\n",
            "Epoch [620], val_loss: 0.0842\n",
            "Epoch [640], val_loss: 0.1284\n",
            "Epoch [660], val_loss: 0.0906\n",
            "Epoch [680], val_loss: 0.1342\n",
            "Epoch [700], val_loss: 0.1114\n",
            "Epoch [720], val_loss: 0.0972\n",
            "Epoch [740], val_loss: 0.0718\n",
            "Epoch [760], val_loss: 0.0637\n",
            "Epoch [780], val_loss: 0.1424\n",
            "Epoch [800], val_loss: 0.0852\n",
            "Epoch [820], val_loss: 0.0938\n",
            "Epoch [840], val_loss: 0.1050\n",
            "Epoch [860], val_loss: 0.1250\n",
            "Epoch [880], val_loss: 0.0751\n",
            "Epoch [900], val_loss: 0.0576\n",
            "Epoch [920], val_loss: 0.0995\n",
            "Epoch [940], val_loss: 0.1105\n",
            "Epoch [960], val_loss: 0.0727\n",
            "Epoch [980], val_loss: 0.0758\n",
            "Epoch [1000], val_loss: 0.0928\n"
          ]
        }
      ],
      "source": [
        "epochs = 1000\n",
        "lr = 1e-6\n",
        "history1 = fit(epochs, lr, model, train_loader, val_loader)"
      ]
    },
    {
      "cell_type": "code",
      "execution_count": 62,
      "id": "8baf1ca3",
      "metadata": {},
      "outputs": [],
      "source": [
        "def predict_single(input, target, model):\n",
        "    inputs = input.unsqueeze(0)\n",
        "    predictions = model(inputs)                \n",
        "    prediction = predictions[0].detach()\n",
        "    return target, prediction"
      ]
    },
    {
      "cell_type": "code",
      "execution_count": 63,
      "id": "eb490bd0",
      "metadata": {},
      "outputs": [],
      "source": [
        "targets = []\n",
        "predictions = []\n",
        "for i in range(len(val_ds)):\n",
        "    input, target = val_ds[i]\n",
        "    target, prediction = predict_single(input, target, model)\n",
        "    targets.append(target)\n",
        "    predictions.append(prediction)\n",
        "\n",
        "xtargets = []\n",
        "ytargets = []\n",
        "xpredictions = []\n",
        "ypredictions = []\n",
        "for i in range(len(targets)):\n",
        "    xtargets.append(targets[i][0])\n",
        "    ytargets.append(targets[i][1])\n",
        "    xpredictions.append(predictions[i][0])\n",
        "    ypredictions.append(predictions[i][1])\n"
      ]
    },
    {
      "cell_type": "code",
      "execution_count": 66,
      "id": "fb6700ff",
      "metadata": {},
      "outputs": [
        {
          "data": {
            "text/plain": [
              "Text(0.5, 1.0, 'Predictions')"
            ]
          },
          "execution_count": 66,
          "metadata": {},
          "output_type": "execute_result"
        },
        {
          "data": {
            "image/png": "[encoded data removed]",
            "text/plain": [
              "<Figure size 1440x720 with 2 Axes>"
            ]
          },
          "metadata": {
            "needs_background": "light"
          },
          "output_type": "display_data"
        }
      ],
      "source": [
        "fig, (ax1,ax2) = plt.subplots(2, figsize=(20, 10))\n",
        "ax1.scatter(xtargets, ytargets)\n",
        "ax1.set_title(\"Targets\")\n",
        "ax2.scatter(xpredictions, ypredictions)\n",
        "ax2.set_title(\"Predictions\")"
      ]
    },
    {
      "cell_type": "code",
      "execution_count": null,
      "id": "e0a495d4",
      "metadata": {},
      "outputs": [],
      "source": []
    }
  ],
  "metadata": {
    "kernelspec": {
      "display_name": "base",
      "language": "python",
      "name": "python3"
    },
    "language_info": {
      "codemirror_mode": {
        "name": "ipython",
        "version": 3
      },
      "file_extension": ".py",
      "mimetype": "text/x-python",
      "name": "python",
      "nbconvert_exporter": "python",
      "pygments_lexer": "ipython3",
      "version": "3.8.8"
    },
    "vscode": {
      "interpreter": {
        "hash": "3d733caf4ffc39d0fbd9a2ba54ef4b7d515956d8048931f8241efe3827fb2d1f"
      }
    }
  },
  "nbformat": 4,
  "nbformat_minor": 5
}
