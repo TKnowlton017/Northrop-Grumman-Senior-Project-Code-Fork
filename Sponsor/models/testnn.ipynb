{
  "cells": [
    {
      "cell_type": "code",
      "execution_count": 2,
      "id": "29ab05d0",
      "metadata": {},
      "outputs": [],
      "source": [
        "import torch\n",
        "import torch.nn as nn\n",
        "import pandas as pd\n",
        "import numpy as np\n",
        "from dateutil.parser import parse\n",
        "import torch.nn.functional as F\n",
        "from torch.utils.data import DataLoader, random_split, TensorDataset\n",
        "import matplotlib.pyplot as plt"
      ]
    },
    {
      "cell_type": "code",
      "execution_count": 3,
      "id": "67f33601",
      "metadata": {},
      "outputs": [
        {
          "ename": "RuntimeError",
          "evalue": "module compiled against API version 0xe but this version of numpy is 0xd",
          "output_type": "error",
          "traceback": [
            "\u001b[1;31m---------------------------------------------------------------------------\u001b[0m",
            "\u001b[1;31mRuntimeError\u001b[0m                              Traceback (most recent call last)",
            "\u001b[1;31mRuntimeError\u001b[0m: module compiled against API version 0xe but this version of numpy is 0xd"
          ]
        },
        {
          "ename": "RuntimeError",
          "evalue": "module compiled against API version 0xe but this version of numpy is 0xd",
          "output_type": "error",
          "traceback": [
            "\u001b[1;31m---------------------------------------------------------------------------\u001b[0m",
            "\u001b[1;31mRuntimeError\u001b[0m                              Traceback (most recent call last)",
            "\u001b[1;31mRuntimeError\u001b[0m: module compiled against API version 0xe but this version of numpy is 0xd"
          ]
        },
        {
          "ename": "RuntimeError",
          "evalue": "module compiled against API version 0xe but this version of numpy is 0xd",
          "output_type": "error",
          "traceback": [
            "\u001b[1;31m---------------------------------------------------------------------------\u001b[0m",
            "\u001b[1;31mRuntimeError\u001b[0m                              Traceback (most recent call last)",
            "\u001b[1;31mRuntimeError\u001b[0m: module compiled against API version 0xe but this version of numpy is 0xd"
          ]
        },
        {
          "name": "stderr",
          "output_type": "stream",
          "text": [
            "c:\\Users\\peter\\anaconda3\\lib\\site-packages\\l5kit\\dataset\\select_agents.py:31: UserWarning: Windows detected. BLOSC_NOLOCK has not been set as it causes memory leaks on Windows.However, writing the mask with this config may be inconsistent.\n",
            "  warnings.warn(\n"
          ]
        }
      ],
      "source": [
        "from l5kit.configs import load_config_data\n",
        "from l5kit.data import LocalDataManager, ChunkedDataset\n",
        "from l5kit.dataset import AgentDataset, EgoDataset\n",
        "from l5kit.rasterization import build_rasterizer\n",
        "from l5kit.evaluation import write_pred_csv, compute_metrics_csv, read_gt_csv, create_chopped_dataset\n",
        "from l5kit.evaluation.chop_dataset import MIN_FUTURE_STEPS\n",
        "from l5kit.evaluation.metrics import neg_multi_log_likelihood, time_displace\n",
        "from l5kit.geometry import transform_points\n",
        "from l5kit.visualization import PREDICTED_POINTS_COLOR, TARGET_POINTS_COLOR, draw_trajectory\n",
        "from prettytable import PrettyTable\n",
        "from pathlib import Path\n",
        "\n",
        "import os"
      ]
    },
    {
      "cell_type": "code",
      "execution_count": 5,
      "id": "4ea11915",
      "metadata": {},
      "outputs": [
        {
          "name": "stdout",
          "output_type": "stream",
          "text": [
            "+------------+------------+------------+---------------+-----------------+----------------------+----------------------+----------------------+---------------------+\n",
            "| Num Scenes | Num Frames | Num Agents | Num TR lights | Total Time (hr) | Avg Frames per Scene | Avg Agents per Frame | Avg Scene Time (sec) | Avg Frame frequency |\n",
            "+------------+------------+------------+---------------+-----------------+----------------------+----------------------+----------------------+---------------------+\n",
            "|    100     |   24838    |  1893736   |     316008    |       0.69      |        248.38        |        76.24         |        24.83         |        10.00        |\n",
            "+------------+------------+------------+---------------+-----------------+----------------------+----------------------+----------------------+---------------------+\n"
          ]
        }
      ],
      "source": [
        "# opening the zarr_dataset\n",
        "os.environ[\"L5KIT_DATA_FOLDER\"] = \"../../../prediction-dataset/\"\n",
        "cfg = load_config_data(\"./visualisation_config.yaml\")\n",
        "dm = LocalDataManager()\n",
        "dataset_path = dm.require(cfg[\"val_data_loader\"][\"key\"])\n",
        "zarr_dataset = ChunkedDataset(dataset_path)\n",
        "zarr_dataset.open()\n",
        "\n",
        "# using EgoDataset interface to extract AV data\n",
        "rast = build_rasterizer(cfg, dm)\n",
        "ego_dataset = EgoDataset(cfg, zarr_dataset, rast)\n",
        "print(ego_dataset)\n",
        "# agent_dataset = AgentDataset(cfg, zarr_dataset, rast)"
      ]
    },
    {
      "cell_type": "code",
      "execution_count": 6,
      "id": "9c971117",
      "metadata": {},
      "outputs": [
        {
          "name": "stdout",
          "output_type": "stream",
          "text": [
            "[[    0   248]\n",
            " [  248   497]\n",
            " [  497   746]\n",
            " [  746   995]\n",
            " [  995  1244]\n",
            " [ 1244  1493]\n",
            " [ 1493  1742]\n",
            " [ 1742  1991]\n",
            " [ 1991  2240]\n",
            " [ 2240  2489]\n",
            " [ 2489  2738]\n",
            " [ 2738  2987]\n",
            " [ 2987  3236]\n",
            " [ 3236  3485]\n",
            " [ 3485  3734]\n",
            " [ 3734  3983]\n",
            " [ 3983  4232]\n",
            " [ 4232  4481]\n",
            " [ 4481  4730]\n",
            " [ 4730  4979]\n",
            " [ 4979  5228]\n",
            " [ 5228  5477]\n",
            " [ 5477  5725]\n",
            " [ 5725  5973]\n",
            " [ 5973  6221]\n",
            " [ 6221  6469]\n",
            " [ 6469  6717]\n",
            " [ 6717  6965]\n",
            " [ 6965  7213]\n",
            " [ 7213  7461]\n",
            " [ 7461  7709]\n",
            " [ 7709  7957]\n",
            " [ 7957  8205]\n",
            " [ 8205  8453]\n",
            " [ 8453  8701]\n",
            " [ 8701  8949]\n",
            " [ 8949  9197]\n",
            " [ 9197  9445]\n",
            " [ 9445  9693]\n",
            " [ 9693  9941]\n",
            " [ 9941 10189]\n",
            " [10189 10437]\n",
            " [10437 10685]\n",
            " [10685 10933]\n",
            " [10933 11182]\n",
            " [11182 11431]\n",
            " [11431 11680]\n",
            " [11680 11929]\n",
            " [11929 12177]\n",
            " [12177 12425]\n",
            " [12425 12673]\n",
            " [12673 12921]\n",
            " [12921 13169]\n",
            " [13169 13417]\n",
            " [13417 13665]\n",
            " [13665 13913]\n",
            " [13913 14161]\n",
            " [14161 14409]\n",
            " [14409 14657]\n",
            " [14657 14905]\n",
            " [14905 15153]\n",
            " [15153 15401]\n",
            " [15401 15649]\n",
            " [15649 15897]\n",
            " [15897 16145]\n",
            " [16145 16393]\n",
            " [16393 16641]\n",
            " [16641 16889]\n",
            " [16889 17137]\n",
            " [17137 17385]\n",
            " [17385 17633]\n",
            " [17633 17881]\n",
            " [17881 18129]\n",
            " [18129 18377]\n",
            " [18377 18625]\n",
            " [18625 18874]\n",
            " [18874 19123]\n",
            " [19123 19372]\n",
            " [19372 19621]\n",
            " [19621 19870]\n",
            " [19870 20118]\n",
            " [20118 20366]\n",
            " [20366 20614]\n",
            " [20614 20862]\n",
            " [20862 21110]\n",
            " [21110 21358]\n",
            " [21358 21607]\n",
            " [21607 21856]\n",
            " [21856 22105]\n",
            " [22105 22354]\n",
            " [22354 22603]\n",
            " [22603 22852]\n",
            " [22852 23101]\n",
            " [23101 23350]\n",
            " [23350 23598]\n",
            " [23598 23846]\n",
            " [23846 24094]\n",
            " [24094 24342]\n",
            " [24342 24590]\n",
            " [24590 24838]]\n"
          ]
        }
      ],
      "source": [
        "# printing the frame ranges that make up each scene\n",
        "scene_frame_indexes = np.array([[0,0]])\n",
        "for i in range(len(zarr_dataset.scenes)):\n",
        "    scene_frame_indexes = np.append(scene_frame_indexes, [[zarr_dataset.scenes[i][0][0], zarr_dataset.scenes[i][0][1]]], axis = 0)\n",
        "    \n",
        "scene_frame_indexes = np.delete(scene_frame_indexes, 0, 0)\n",
        "print(scene_frame_indexes)"
      ]
    },
    {
      "cell_type": "code",
      "execution_count": 13,
      "id": "ac1949ef",
      "metadata": {},
      "outputs": [
        {
          "name": "stdout",
          "output_type": "stream",
          "text": [
            "torch.Size([249, 5])\n",
            "torch.Size([249, 2])\n"
          ]
        }
      ],
      "source": [
        "position_AV = np.array([0,0,0,0,0])\n",
        "output = np.array([0,0])\n",
        "\n",
        "for i in range(0, 248):\n",
        "    position_AV = np.append(position_AV, [ego_dataset[i][\"centroid\"][0], ego_dataset[i][\"centroid\"][1], ego_dataset[i][\"yaw\"], ego_dataset[i][\"target_velocities\"][0][0], ego_dataset[i][\"target_velocities\"][0][1]], axis = 0)\n",
        "    output = np.append(output, [ego_dataset[i][\"target_positions\"][0][0], ego_dataset[i][\"target_positions\"][0][1]], axis = 0)\n",
        "\n",
        "#print(position_AV)\n",
        "# for i in range(scene_frame_indexes[0][0], scene_frame_indexes[0][1]):\n",
        "inputs = torch.from_numpy(position_AV)\n",
        "outputs = torch.from_numpy(output)\n",
        "inputs = inputs.reshape(249, 5)\n",
        "outputs = outputs.reshape(249, 2)\n",
        "print(inputs.shape)\n",
        "print(outputs.shape)"
      ]
    },
    {
      "cell_type": "code",
      "execution_count": 20,
      "id": "21f0edc9",
      "metadata": {},
      "outputs": [],
      "source": [
        "dataset = TensorDataset(inputs, outputs)\n",
        "val_percent = 0.2\n",
        "num_rows = len(inputs)\n",
        "val_size = int(num_rows * val_percent)\n",
        "train_size = num_rows - val_size\n",
        "train_ds, val_ds = random_split(dataset, [train_size, val_size])"
      ]
    },
    {
      "cell_type": "code",
      "execution_count": 21,
      "id": "b7e23965",
      "metadata": {},
      "outputs": [],
      "source": [
        "batch_size = 64\n",
        "train_loader = DataLoader(train_ds, batch_size, shuffle = True, num_workers = 0)\n",
        "val_loader = DataLoader(val_ds, batch_size, num_workers = 0)"
      ]
    },
    {
      "cell_type": "code",
      "execution_count": 22,
      "id": "ef6645ee",
      "metadata": {},
      "outputs": [],
      "source": [
        "input_size = len(inputs[0])\n",
        "output_size = len(outputs[0])"
      ]
    },
    {
      "cell_type": "code",
      "execution_count": 23,
      "id": "758cfa15",
      "metadata": {},
      "outputs": [],
      "source": [
        "class NeuralNetwork(nn.Module):\n",
        "    def __init__(self):\n",
        "        super().__init__()\n",
        "        self.layers = nn.Sequential(\n",
        "            nn.Linear(5, 25),\n",
        "            nn.ReLU(),\n",
        "            nn.Linear(25,10),\n",
        "            nn.ReLU(),\n",
        "            nn.Linear(10,2)\n",
        "        )\n",
        "        \n",
        "    def forward(self, xb):\n",
        "        out = self.layers(xb)                       \n",
        "        return out\n",
        "    \n",
        "    def training_step(self, batch):\n",
        "        inputs, targets = batch \n",
        "        # Generate predictions\n",
        "        out = self(inputs)          \n",
        "        # Calcuate loss\n",
        "        loss = F.l1_loss(input = out, target = targets, size_average = None, reduce = None, reduction = 'mean')  \n",
        "        return loss\n",
        "    \n",
        "    def validation_step(self, batch):\n",
        "        inputs, targets = batch\n",
        "        # Generate predictions\n",
        "        out = self(inputs)\n",
        "        # Calculate loss\n",
        "        loss = F.l1_loss(input = out, target = targets, size_average = None, reduce = None, reduction = 'mean')    \n",
        "        return {'val_loss': loss.detach()}\n",
        "        \n",
        "    def validation_epoch_end(self, outputs):\n",
        "        batch_losses = [x['val_loss'] for x in outputs]\n",
        "        epoch_loss = torch.stack(batch_losses).mean()   # Combine losses\n",
        "        return {'val_loss': epoch_loss.item()}\n",
        "    \n",
        "    def epoch_end(self, epoch, result, num_epochs):\n",
        "        # Print result every 20th epoch\n",
        "        if (epoch+1) % 20 == 0 or epoch == num_epochs-1:\n",
        "            print(\"Epoch [{}], val_loss: {:.4f}\".format(epoch+1, result['val_loss']))"
      ]
    },
    {
      "cell_type": "code",
      "execution_count": 24,
      "id": "5570e605",
      "metadata": {},
      "outputs": [],
      "source": [
        "model = NeuralNetwork()"
      ]
    },
    {
      "cell_type": "code",
      "execution_count": 25,
      "id": "b2deb000",
      "metadata": {},
      "outputs": [
        {
          "data": {
            "text/plain": [
              "[Parameter containing:\n",
              " tensor([[ 0.4353, -0.2644,  0.4154,  0.3431,  0.2532],\n",
              "         [-0.4337, -0.4028, -0.0845,  0.3649, -0.1544],\n",
              "         [ 0.1363, -0.2887,  0.1843, -0.3183,  0.3184],\n",
              "         [-0.1522, -0.1652, -0.4322, -0.2166,  0.0355],\n",
              "         [-0.1256, -0.3063, -0.1541, -0.0202, -0.4424],\n",
              "         [-0.0066, -0.1200, -0.2870,  0.4123, -0.2790],\n",
              "         [-0.4241, -0.1368, -0.1252, -0.3065,  0.1472],\n",
              "         [ 0.1515, -0.2321,  0.1038, -0.0396, -0.1587],\n",
              "         [ 0.1135,  0.2446, -0.0326,  0.1836,  0.0748],\n",
              "         [ 0.1917,  0.0091,  0.2184, -0.1810,  0.4072],\n",
              "         [ 0.0576,  0.0285, -0.1378,  0.1637, -0.1571],\n",
              "         [ 0.0764,  0.2502, -0.1927, -0.0248,  0.4121],\n",
              "         [-0.1092, -0.2745, -0.0502, -0.0991, -0.2845],\n",
              "         [ 0.1657,  0.3951,  0.2286,  0.1793, -0.2856],\n",
              "         [ 0.4397, -0.3852,  0.0967,  0.1626,  0.0209],\n",
              "         [ 0.0990, -0.0063,  0.1958,  0.0024,  0.1486],\n",
              "         [ 0.4304,  0.2161,  0.3080, -0.3308,  0.0049],\n",
              "         [ 0.3075, -0.0492,  0.0509,  0.1630,  0.4032],\n",
              "         [-0.0205,  0.1217,  0.0118, -0.1510,  0.1472],\n",
              "         [ 0.2792,  0.1434,  0.2873,  0.1790,  0.2253],\n",
              "         [ 0.1472, -0.2136, -0.4131, -0.3542, -0.0606],\n",
              "         [-0.2806, -0.3139,  0.1833, -0.1228, -0.0208],\n",
              "         [ 0.0512, -0.1154, -0.0402,  0.1988,  0.2728],\n",
              "         [-0.0639, -0.1414,  0.0580,  0.4117, -0.1231],\n",
              "         [ 0.0932, -0.0430,  0.3566, -0.1158,  0.0139]], requires_grad=True),\n",
              " Parameter containing:\n",
              " tensor([-0.1516,  0.1527,  0.0499, -0.2510,  0.0891, -0.0282,  0.0341, -0.3030,\n",
              "          0.3606,  0.1207,  0.2145, -0.1696,  0.3505,  0.1524,  0.3176,  0.0226,\n",
              "          0.2434, -0.3785, -0.2316, -0.0333, -0.0556, -0.4372,  0.1855, -0.1406,\n",
              "          0.1659], requires_grad=True),\n",
              " Parameter containing:\n",
              " tensor([[ 0.1667,  0.1965,  0.0559, -0.1417, -0.0511, -0.0901,  0.1805,  0.0172,\n",
              "          -0.1299,  0.1578, -0.1091, -0.1017, -0.0030,  0.1742, -0.1757,  0.1762,\n",
              "           0.1552, -0.1142, -0.1997,  0.1927, -0.1823, -0.0594, -0.0409,  0.0688,\n",
              "          -0.1079],\n",
              "         [ 0.0910, -0.0351,  0.1110,  0.1980, -0.1321,  0.1408,  0.0096,  0.1593,\n",
              "          -0.0107, -0.1042,  0.1081,  0.1706, -0.0666, -0.0900, -0.0219, -0.0062,\n",
              "           0.1287,  0.1497, -0.1820,  0.0655, -0.1536, -0.1953,  0.0870, -0.1474,\n",
              "          -0.1280],\n",
              "         [-0.0326, -0.0163,  0.1505,  0.0606,  0.1321, -0.0774, -0.0381,  0.0673,\n",
              "           0.1909,  0.0033,  0.0055,  0.1756,  0.1322,  0.0028,  0.1407, -0.0862,\n",
              "           0.1448, -0.0704, -0.1471, -0.0115,  0.1996,  0.1608, -0.0328,  0.0927,\n",
              "          -0.1741],\n",
              "         [ 0.0585, -0.0617, -0.1136,  0.1851, -0.0065, -0.1459, -0.1382,  0.0465,\n",
              "           0.1498,  0.0650, -0.1792, -0.0526, -0.1822, -0.1872, -0.0818, -0.0729,\n",
              "           0.1167,  0.0642, -0.1857,  0.1733, -0.0256,  0.1303, -0.1605,  0.0868,\n",
              "          -0.0912],\n",
              "         [-0.1485,  0.0724, -0.1650, -0.0604,  0.0520,  0.0444, -0.0329,  0.1553,\n",
              "          -0.0487,  0.0891,  0.0892, -0.1032, -0.0100,  0.0671,  0.0329, -0.0840,\n",
              "           0.1468,  0.0685,  0.0150,  0.1631,  0.0664, -0.1677,  0.1661, -0.0448,\n",
              "           0.1136],\n",
              "         [-0.1779, -0.0174, -0.0391, -0.1305,  0.1700,  0.1853,  0.0687, -0.1801,\n",
              "          -0.0907,  0.1216,  0.1683,  0.0407,  0.0121,  0.1885,  0.0179, -0.1734,\n",
              "           0.1467,  0.1368,  0.1851, -0.1840,  0.1514, -0.1877, -0.1163,  0.0996,\n",
              "          -0.0977],\n",
              "         [-0.1293, -0.0841,  0.0342, -0.0090,  0.1438, -0.0725, -0.0662,  0.1309,\n",
              "           0.0473, -0.1617,  0.1474, -0.0229, -0.0405, -0.0054, -0.0770, -0.1584,\n",
              "          -0.1256,  0.1143, -0.1538,  0.0783, -0.0521,  0.0367,  0.0655, -0.1203,\n",
              "          -0.0283],\n",
              "         [-0.0331,  0.1191,  0.0943,  0.0445, -0.1562, -0.0408,  0.0728, -0.0183,\n",
              "          -0.0791,  0.0216, -0.1008, -0.0981,  0.1350, -0.1871, -0.0642, -0.1964,\n",
              "          -0.0570, -0.0403,  0.1612, -0.0019,  0.0613, -0.1363,  0.1373,  0.0203,\n",
              "           0.1810],\n",
              "         [ 0.0493,  0.0099, -0.0574, -0.0337, -0.1676, -0.1285,  0.1833, -0.0686,\n",
              "          -0.0568,  0.0153,  0.0510,  0.0604,  0.0756,  0.0045, -0.0650,  0.1549,\n",
              "          -0.0027,  0.1801, -0.1938, -0.0995, -0.1543,  0.0769, -0.1440, -0.1461,\n",
              "          -0.0492],\n",
              "         [-0.1017,  0.0765, -0.0686,  0.1632, -0.0670,  0.0388, -0.1900,  0.1991,\n",
              "           0.1800,  0.1140,  0.1025, -0.1621,  0.0383,  0.0296, -0.0821,  0.1985,\n",
              "           0.1255,  0.1321,  0.1594, -0.0286, -0.1913,  0.1284,  0.0539, -0.0405,\n",
              "          -0.0637]], requires_grad=True),\n",
              " Parameter containing:\n",
              " tensor([ 0.1874,  0.1609, -0.0206, -0.1454,  0.1575, -0.1801, -0.0071, -0.1831,\n",
              "          0.0501, -0.1482], requires_grad=True),\n",
              " Parameter containing:\n",
              " tensor([[-0.2680,  0.0252, -0.0546, -0.0799,  0.2244, -0.0050, -0.3158, -0.1377,\n",
              "           0.3160,  0.1715],\n",
              "         [ 0.0962,  0.1830,  0.2766, -0.2473,  0.2935,  0.2007, -0.1642,  0.1286,\n",
              "          -0.0127,  0.0363]], requires_grad=True),\n",
              " Parameter containing:\n",
              " tensor([-0.0611,  0.1581], requires_grad=True)]"
            ]
          },
          "execution_count": 25,
          "metadata": {},
          "output_type": "execute_result"
        }
      ],
      "source": [
        "list(model.parameters())"
      ]
    },
    {
      "cell_type": "code",
      "execution_count": 26,
      "id": "1f314be3",
      "metadata": {},
      "outputs": [],
      "source": [
        "def evaluate(model, val_loader):\n",
        "    outputs = [model.validation_step(batch) for batch in val_loader]\n",
        "    return model.validation_epoch_end(outputs)\n",
        "\n",
        "def fit(epochs, lr, model, train_loader, val_loader, opt_func = torch.optim.SGD):\n",
        "    history = []\n",
        "    optimizer = opt_func(model.parameters(), lr)\n",
        "    for epoch in range(epochs):\n",
        "        # Training Phase \n",
        "        for batch in train_loader:\n",
        "            loss = model.training_step(batch)\n",
        "            loss.backward()\n",
        "            optimizer.step()\n",
        "            optimizer.zero_grad()\n",
        "        # Validation phase\n",
        "        result = evaluate(model, val_loader)\n",
        "        model.epoch_end(epoch, result, epochs)\n",
        "        history.append(result)\n",
        "    return history"
      ]
    },
    {
      "cell_type": "code",
      "execution_count": 27,
      "id": "5aa9860a",
      "metadata": {},
      "outputs": [
        {
          "ename": "RuntimeError",
          "evalue": "expected scalar type Float but found Double",
          "output_type": "error",
          "traceback": [
            "\u001b[1;31m---------------------------------------------------------------------------\u001b[0m",
            "\u001b[1;31mRuntimeError\u001b[0m                              Traceback (most recent call last)",
            "\u001b[1;32m<ipython-input-27-af5f9336f3fe>\u001b[0m in \u001b[0;36m<module>\u001b[1;34m\u001b[0m\n\u001b[1;32m----> 1\u001b[1;33m \u001b[0mresult\u001b[0m \u001b[1;33m=\u001b[0m \u001b[0mevaluate\u001b[0m\u001b[1;33m(\u001b[0m\u001b[0mmodel\u001b[0m\u001b[1;33m,\u001b[0m \u001b[0mval_loader\u001b[0m\u001b[1;33m)\u001b[0m\u001b[1;33m\u001b[0m\u001b[1;33m\u001b[0m\u001b[0m\n\u001b[0m\u001b[0;32m      2\u001b[0m \u001b[0mprint\u001b[0m\u001b[1;33m(\u001b[0m\u001b[0mresult\u001b[0m\u001b[1;33m)\u001b[0m\u001b[1;33m\u001b[0m\u001b[1;33m\u001b[0m\u001b[0m\n",
            "\u001b[1;32m<ipython-input-26-72ad3450d57c>\u001b[0m in \u001b[0;36mevaluate\u001b[1;34m(model, val_loader)\u001b[0m\n\u001b[0;32m      1\u001b[0m \u001b[1;32mdef\u001b[0m \u001b[0mevaluate\u001b[0m\u001b[1;33m(\u001b[0m\u001b[0mmodel\u001b[0m\u001b[1;33m,\u001b[0m \u001b[0mval_loader\u001b[0m\u001b[1;33m)\u001b[0m\u001b[1;33m:\u001b[0m\u001b[1;33m\u001b[0m\u001b[1;33m\u001b[0m\u001b[0m\n\u001b[1;32m----> 2\u001b[1;33m     \u001b[0moutputs\u001b[0m \u001b[1;33m=\u001b[0m \u001b[1;33m[\u001b[0m\u001b[0mmodel\u001b[0m\u001b[1;33m.\u001b[0m\u001b[0mvalidation_step\u001b[0m\u001b[1;33m(\u001b[0m\u001b[0mbatch\u001b[0m\u001b[1;33m)\u001b[0m \u001b[1;32mfor\u001b[0m \u001b[0mbatch\u001b[0m \u001b[1;32min\u001b[0m \u001b[0mval_loader\u001b[0m\u001b[1;33m]\u001b[0m\u001b[1;33m\u001b[0m\u001b[1;33m\u001b[0m\u001b[0m\n\u001b[0m\u001b[0;32m      3\u001b[0m     \u001b[1;32mreturn\u001b[0m \u001b[0mmodel\u001b[0m\u001b[1;33m.\u001b[0m\u001b[0mvalidation_epoch_end\u001b[0m\u001b[1;33m(\u001b[0m\u001b[0moutputs\u001b[0m\u001b[1;33m)\u001b[0m\u001b[1;33m\u001b[0m\u001b[1;33m\u001b[0m\u001b[0m\n\u001b[0;32m      4\u001b[0m \u001b[1;33m\u001b[0m\u001b[0m\n\u001b[0;32m      5\u001b[0m \u001b[1;32mdef\u001b[0m \u001b[0mfit\u001b[0m\u001b[1;33m(\u001b[0m\u001b[0mepochs\u001b[0m\u001b[1;33m,\u001b[0m \u001b[0mlr\u001b[0m\u001b[1;33m,\u001b[0m \u001b[0mmodel\u001b[0m\u001b[1;33m,\u001b[0m \u001b[0mtrain_loader\u001b[0m\u001b[1;33m,\u001b[0m \u001b[0mval_loader\u001b[0m\u001b[1;33m,\u001b[0m \u001b[0mopt_func\u001b[0m \u001b[1;33m=\u001b[0m \u001b[0mtorch\u001b[0m\u001b[1;33m.\u001b[0m\u001b[0moptim\u001b[0m\u001b[1;33m.\u001b[0m\u001b[0mSGD\u001b[0m\u001b[1;33m)\u001b[0m\u001b[1;33m:\u001b[0m\u001b[1;33m\u001b[0m\u001b[1;33m\u001b[0m\u001b[0m\n",
            "\u001b[1;32m<ipython-input-26-72ad3450d57c>\u001b[0m in \u001b[0;36m<listcomp>\u001b[1;34m(.0)\u001b[0m\n\u001b[0;32m      1\u001b[0m \u001b[1;32mdef\u001b[0m \u001b[0mevaluate\u001b[0m\u001b[1;33m(\u001b[0m\u001b[0mmodel\u001b[0m\u001b[1;33m,\u001b[0m \u001b[0mval_loader\u001b[0m\u001b[1;33m)\u001b[0m\u001b[1;33m:\u001b[0m\u001b[1;33m\u001b[0m\u001b[1;33m\u001b[0m\u001b[0m\n\u001b[1;32m----> 2\u001b[1;33m     \u001b[0moutputs\u001b[0m \u001b[1;33m=\u001b[0m \u001b[1;33m[\u001b[0m\u001b[0mmodel\u001b[0m\u001b[1;33m.\u001b[0m\u001b[0mvalidation_step\u001b[0m\u001b[1;33m(\u001b[0m\u001b[0mbatch\u001b[0m\u001b[1;33m)\u001b[0m \u001b[1;32mfor\u001b[0m \u001b[0mbatch\u001b[0m \u001b[1;32min\u001b[0m \u001b[0mval_loader\u001b[0m\u001b[1;33m]\u001b[0m\u001b[1;33m\u001b[0m\u001b[1;33m\u001b[0m\u001b[0m\n\u001b[0m\u001b[0;32m      3\u001b[0m     \u001b[1;32mreturn\u001b[0m \u001b[0mmodel\u001b[0m\u001b[1;33m.\u001b[0m\u001b[0mvalidation_epoch_end\u001b[0m\u001b[1;33m(\u001b[0m\u001b[0moutputs\u001b[0m\u001b[1;33m)\u001b[0m\u001b[1;33m\u001b[0m\u001b[1;33m\u001b[0m\u001b[0m\n\u001b[0;32m      4\u001b[0m \u001b[1;33m\u001b[0m\u001b[0m\n\u001b[0;32m      5\u001b[0m \u001b[1;32mdef\u001b[0m \u001b[0mfit\u001b[0m\u001b[1;33m(\u001b[0m\u001b[0mepochs\u001b[0m\u001b[1;33m,\u001b[0m \u001b[0mlr\u001b[0m\u001b[1;33m,\u001b[0m \u001b[0mmodel\u001b[0m\u001b[1;33m,\u001b[0m \u001b[0mtrain_loader\u001b[0m\u001b[1;33m,\u001b[0m \u001b[0mval_loader\u001b[0m\u001b[1;33m,\u001b[0m \u001b[0mopt_func\u001b[0m \u001b[1;33m=\u001b[0m \u001b[0mtorch\u001b[0m\u001b[1;33m.\u001b[0m\u001b[0moptim\u001b[0m\u001b[1;33m.\u001b[0m\u001b[0mSGD\u001b[0m\u001b[1;33m)\u001b[0m\u001b[1;33m:\u001b[0m\u001b[1;33m\u001b[0m\u001b[1;33m\u001b[0m\u001b[0m\n",
            "\u001b[1;32m<ipython-input-23-1baffda17372>\u001b[0m in \u001b[0;36mvalidation_step\u001b[1;34m(self, batch)\u001b[0m\n\u001b[0;32m     25\u001b[0m         \u001b[0minputs\u001b[0m\u001b[1;33m,\u001b[0m \u001b[0mtargets\u001b[0m \u001b[1;33m=\u001b[0m \u001b[0mbatch\u001b[0m\u001b[1;33m\u001b[0m\u001b[1;33m\u001b[0m\u001b[0m\n\u001b[0;32m     26\u001b[0m         \u001b[1;31m# Generate predictions\u001b[0m\u001b[1;33m\u001b[0m\u001b[1;33m\u001b[0m\u001b[1;33m\u001b[0m\u001b[0m\n\u001b[1;32m---> 27\u001b[1;33m         \u001b[0mout\u001b[0m \u001b[1;33m=\u001b[0m \u001b[0mself\u001b[0m\u001b[1;33m(\u001b[0m\u001b[0minputs\u001b[0m\u001b[1;33m)\u001b[0m\u001b[1;33m\u001b[0m\u001b[1;33m\u001b[0m\u001b[0m\n\u001b[0m\u001b[0;32m     28\u001b[0m         \u001b[1;31m# Calculate loss\u001b[0m\u001b[1;33m\u001b[0m\u001b[1;33m\u001b[0m\u001b[1;33m\u001b[0m\u001b[0m\n\u001b[0;32m     29\u001b[0m         \u001b[0mloss\u001b[0m \u001b[1;33m=\u001b[0m \u001b[0mF\u001b[0m\u001b[1;33m.\u001b[0m\u001b[0ml1_loss\u001b[0m\u001b[1;33m(\u001b[0m\u001b[0minput\u001b[0m \u001b[1;33m=\u001b[0m \u001b[0mout\u001b[0m\u001b[1;33m,\u001b[0m \u001b[0mtarget\u001b[0m \u001b[1;33m=\u001b[0m \u001b[0mtargets\u001b[0m\u001b[1;33m,\u001b[0m \u001b[0msize_average\u001b[0m \u001b[1;33m=\u001b[0m \u001b[1;32mNone\u001b[0m\u001b[1;33m,\u001b[0m \u001b[0mreduce\u001b[0m \u001b[1;33m=\u001b[0m \u001b[1;32mNone\u001b[0m\u001b[1;33m,\u001b[0m \u001b[0mreduction\u001b[0m \u001b[1;33m=\u001b[0m \u001b[1;34m'mean'\u001b[0m\u001b[1;33m)\u001b[0m\u001b[1;33m\u001b[0m\u001b[1;33m\u001b[0m\u001b[0m\n",
            "\u001b[1;32mc:\\Users\\peter\\anaconda3\\lib\\site-packages\\torch\\nn\\modules\\module.py\u001b[0m in \u001b[0;36m_call_impl\u001b[1;34m(self, *input, **kwargs)\u001b[0m\n\u001b[0;32m   1128\u001b[0m         if not (self._backward_hooks or self._forward_hooks or self._forward_pre_hooks or _global_backward_hooks\n\u001b[0;32m   1129\u001b[0m                 or _global_forward_hooks or _global_forward_pre_hooks):\n\u001b[1;32m-> 1130\u001b[1;33m             \u001b[1;32mreturn\u001b[0m \u001b[0mforward_call\u001b[0m\u001b[1;33m(\u001b[0m\u001b[1;33m*\u001b[0m\u001b[0minput\u001b[0m\u001b[1;33m,\u001b[0m \u001b[1;33m**\u001b[0m\u001b[0mkwargs\u001b[0m\u001b[1;33m)\u001b[0m\u001b[1;33m\u001b[0m\u001b[1;33m\u001b[0m\u001b[0m\n\u001b[0m\u001b[0;32m   1131\u001b[0m         \u001b[1;31m# Do not call functions when jit is used\u001b[0m\u001b[1;33m\u001b[0m\u001b[1;33m\u001b[0m\u001b[1;33m\u001b[0m\u001b[0m\n\u001b[0;32m   1132\u001b[0m         \u001b[0mfull_backward_hooks\u001b[0m\u001b[1;33m,\u001b[0m \u001b[0mnon_full_backward_hooks\u001b[0m \u001b[1;33m=\u001b[0m \u001b[1;33m[\u001b[0m\u001b[1;33m]\u001b[0m\u001b[1;33m,\u001b[0m \u001b[1;33m[\u001b[0m\u001b[1;33m]\u001b[0m\u001b[1;33m\u001b[0m\u001b[1;33m\u001b[0m\u001b[0m\n",
            "\u001b[1;32m<ipython-input-23-1baffda17372>\u001b[0m in \u001b[0;36mforward\u001b[1;34m(self, xb)\u001b[0m\n\u001b[0;32m     11\u001b[0m \u001b[1;33m\u001b[0m\u001b[0m\n\u001b[0;32m     12\u001b[0m     \u001b[1;32mdef\u001b[0m \u001b[0mforward\u001b[0m\u001b[1;33m(\u001b[0m\u001b[0mself\u001b[0m\u001b[1;33m,\u001b[0m \u001b[0mxb\u001b[0m\u001b[1;33m)\u001b[0m\u001b[1;33m:\u001b[0m\u001b[1;33m\u001b[0m\u001b[1;33m\u001b[0m\u001b[0m\n\u001b[1;32m---> 13\u001b[1;33m         \u001b[0mout\u001b[0m \u001b[1;33m=\u001b[0m \u001b[0mself\u001b[0m\u001b[1;33m.\u001b[0m\u001b[0mlayers\u001b[0m\u001b[1;33m(\u001b[0m\u001b[0mxb\u001b[0m\u001b[1;33m)\u001b[0m\u001b[1;33m\u001b[0m\u001b[1;33m\u001b[0m\u001b[0m\n\u001b[0m\u001b[0;32m     14\u001b[0m         \u001b[1;32mreturn\u001b[0m \u001b[0mout\u001b[0m\u001b[1;33m\u001b[0m\u001b[1;33m\u001b[0m\u001b[0m\n\u001b[0;32m     15\u001b[0m \u001b[1;33m\u001b[0m\u001b[0m\n",
            "\u001b[1;32mc:\\Users\\peter\\anaconda3\\lib\\site-packages\\torch\\nn\\modules\\module.py\u001b[0m in \u001b[0;36m_call_impl\u001b[1;34m(self, *input, **kwargs)\u001b[0m\n\u001b[0;32m   1128\u001b[0m         if not (self._backward_hooks or self._forward_hooks or self._forward_pre_hooks or _global_backward_hooks\n\u001b[0;32m   1129\u001b[0m                 or _global_forward_hooks or _global_forward_pre_hooks):\n\u001b[1;32m-> 1130\u001b[1;33m             \u001b[1;32mreturn\u001b[0m \u001b[0mforward_call\u001b[0m\u001b[1;33m(\u001b[0m\u001b[1;33m*\u001b[0m\u001b[0minput\u001b[0m\u001b[1;33m,\u001b[0m \u001b[1;33m**\u001b[0m\u001b[0mkwargs\u001b[0m\u001b[1;33m)\u001b[0m\u001b[1;33m\u001b[0m\u001b[1;33m\u001b[0m\u001b[0m\n\u001b[0m\u001b[0;32m   1131\u001b[0m         \u001b[1;31m# Do not call functions when jit is used\u001b[0m\u001b[1;33m\u001b[0m\u001b[1;33m\u001b[0m\u001b[1;33m\u001b[0m\u001b[0m\n\u001b[0;32m   1132\u001b[0m         \u001b[0mfull_backward_hooks\u001b[0m\u001b[1;33m,\u001b[0m \u001b[0mnon_full_backward_hooks\u001b[0m \u001b[1;33m=\u001b[0m \u001b[1;33m[\u001b[0m\u001b[1;33m]\u001b[0m\u001b[1;33m,\u001b[0m \u001b[1;33m[\u001b[0m\u001b[1;33m]\u001b[0m\u001b[1;33m\u001b[0m\u001b[1;33m\u001b[0m\u001b[0m\n",
            "\u001b[1;32mc:\\Users\\peter\\anaconda3\\lib\\site-packages\\torch\\nn\\modules\\container.py\u001b[0m in \u001b[0;36mforward\u001b[1;34m(self, input)\u001b[0m\n\u001b[0;32m    137\u001b[0m     \u001b[1;32mdef\u001b[0m \u001b[0mforward\u001b[0m\u001b[1;33m(\u001b[0m\u001b[0mself\u001b[0m\u001b[1;33m,\u001b[0m \u001b[0minput\u001b[0m\u001b[1;33m)\u001b[0m\u001b[1;33m:\u001b[0m\u001b[1;33m\u001b[0m\u001b[1;33m\u001b[0m\u001b[0m\n\u001b[0;32m    138\u001b[0m         \u001b[1;32mfor\u001b[0m \u001b[0mmodule\u001b[0m \u001b[1;32min\u001b[0m \u001b[0mself\u001b[0m\u001b[1;33m:\u001b[0m\u001b[1;33m\u001b[0m\u001b[1;33m\u001b[0m\u001b[0m\n\u001b[1;32m--> 139\u001b[1;33m             \u001b[0minput\u001b[0m \u001b[1;33m=\u001b[0m \u001b[0mmodule\u001b[0m\u001b[1;33m(\u001b[0m\u001b[0minput\u001b[0m\u001b[1;33m)\u001b[0m\u001b[1;33m\u001b[0m\u001b[1;33m\u001b[0m\u001b[0m\n\u001b[0m\u001b[0;32m    140\u001b[0m         \u001b[1;32mreturn\u001b[0m \u001b[0minput\u001b[0m\u001b[1;33m\u001b[0m\u001b[1;33m\u001b[0m\u001b[0m\n\u001b[0;32m    141\u001b[0m \u001b[1;33m\u001b[0m\u001b[0m\n",
            "\u001b[1;32mc:\\Users\\peter\\anaconda3\\lib\\site-packages\\torch\\nn\\modules\\module.py\u001b[0m in \u001b[0;36m_call_impl\u001b[1;34m(self, *input, **kwargs)\u001b[0m\n\u001b[0;32m   1128\u001b[0m         if not (self._backward_hooks or self._forward_hooks or self._forward_pre_hooks or _global_backward_hooks\n\u001b[0;32m   1129\u001b[0m                 or _global_forward_hooks or _global_forward_pre_hooks):\n\u001b[1;32m-> 1130\u001b[1;33m             \u001b[1;32mreturn\u001b[0m \u001b[0mforward_call\u001b[0m\u001b[1;33m(\u001b[0m\u001b[1;33m*\u001b[0m\u001b[0minput\u001b[0m\u001b[1;33m,\u001b[0m \u001b[1;33m**\u001b[0m\u001b[0mkwargs\u001b[0m\u001b[1;33m)\u001b[0m\u001b[1;33m\u001b[0m\u001b[1;33m\u001b[0m\u001b[0m\n\u001b[0m\u001b[0;32m   1131\u001b[0m         \u001b[1;31m# Do not call functions when jit is used\u001b[0m\u001b[1;33m\u001b[0m\u001b[1;33m\u001b[0m\u001b[1;33m\u001b[0m\u001b[0m\n\u001b[0;32m   1132\u001b[0m         \u001b[0mfull_backward_hooks\u001b[0m\u001b[1;33m,\u001b[0m \u001b[0mnon_full_backward_hooks\u001b[0m \u001b[1;33m=\u001b[0m \u001b[1;33m[\u001b[0m\u001b[1;33m]\u001b[0m\u001b[1;33m,\u001b[0m \u001b[1;33m[\u001b[0m\u001b[1;33m]\u001b[0m\u001b[1;33m\u001b[0m\u001b[1;33m\u001b[0m\u001b[0m\n",
            "\u001b[1;32mc:\\Users\\peter\\anaconda3\\lib\\site-packages\\torch\\nn\\modules\\linear.py\u001b[0m in \u001b[0;36mforward\u001b[1;34m(self, input)\u001b[0m\n\u001b[0;32m    112\u001b[0m \u001b[1;33m\u001b[0m\u001b[0m\n\u001b[0;32m    113\u001b[0m     \u001b[1;32mdef\u001b[0m \u001b[0mforward\u001b[0m\u001b[1;33m(\u001b[0m\u001b[0mself\u001b[0m\u001b[1;33m,\u001b[0m \u001b[0minput\u001b[0m\u001b[1;33m:\u001b[0m \u001b[0mTensor\u001b[0m\u001b[1;33m)\u001b[0m \u001b[1;33m->\u001b[0m \u001b[0mTensor\u001b[0m\u001b[1;33m:\u001b[0m\u001b[1;33m\u001b[0m\u001b[1;33m\u001b[0m\u001b[0m\n\u001b[1;32m--> 114\u001b[1;33m         \u001b[1;32mreturn\u001b[0m \u001b[0mF\u001b[0m\u001b[1;33m.\u001b[0m\u001b[0mlinear\u001b[0m\u001b[1;33m(\u001b[0m\u001b[0minput\u001b[0m\u001b[1;33m,\u001b[0m \u001b[0mself\u001b[0m\u001b[1;33m.\u001b[0m\u001b[0mweight\u001b[0m\u001b[1;33m,\u001b[0m \u001b[0mself\u001b[0m\u001b[1;33m.\u001b[0m\u001b[0mbias\u001b[0m\u001b[1;33m)\u001b[0m\u001b[1;33m\u001b[0m\u001b[1;33m\u001b[0m\u001b[0m\n\u001b[0m\u001b[0;32m    115\u001b[0m \u001b[1;33m\u001b[0m\u001b[0m\n\u001b[0;32m    116\u001b[0m     \u001b[1;32mdef\u001b[0m \u001b[0mextra_repr\u001b[0m\u001b[1;33m(\u001b[0m\u001b[0mself\u001b[0m\u001b[1;33m)\u001b[0m \u001b[1;33m->\u001b[0m \u001b[0mstr\u001b[0m\u001b[1;33m:\u001b[0m\u001b[1;33m\u001b[0m\u001b[1;33m\u001b[0m\u001b[0m\n",
            "\u001b[1;31mRuntimeError\u001b[0m: expected scalar type Float but found Double"
          ]
        }
      ],
      "source": [
        "result = evaluate(model, val_loader)\n",
        "print(result)"
      ]
    },
    {
      "cell_type": "code",
      "execution_count": null,
      "id": "e97e6247",
      "metadata": {},
      "outputs": [],
      "source": [
        "epochs = 1000\n",
        "lr = 1e-7\n",
        "history1 = fit(epochs, lr, model, train_loader, val_loader)"
      ]
    },
    {
      "cell_type": "code",
      "execution_count": null,
      "id": "8baf1ca3",
      "metadata": {},
      "outputs": [],
      "source": [
        "def predict_single(input, target, model):\n",
        "    inputs = input.unsqueeze(0)\n",
        "    predictions = model(inputs)                \n",
        "    prediction = predictions[0].detach()\n",
        "    return target, prediction"
      ]
    },
    {
      "cell_type": "code",
      "execution_count": null,
      "id": "eb490bd0",
      "metadata": {},
      "outputs": [],
      "source": [
        "targets = []\n",
        "predictions = []\n",
        "for i in range(len(val_ds)):\n",
        "    input, target = val_ds[i]\n",
        "    target, prediction = predict_single(input, target, model)\n",
        "    targets.append(target)\n",
        "    predictions.append(prediction)"
      ]
    },
    {
      "cell_type": "code",
      "execution_count": null,
      "id": "fb6700ff",
      "metadata": {},
      "outputs": [],
      "source": [
        "fig, ax = plt.subplots(figsize=(20, 10))\n",
        "\n",
        "ax.scatter(range(len(predictions)),targets)\n",
        "ax.scatter(range(len(predictions)), predictions)"
      ]
    }
  ],
  "metadata": {
    "kernelspec": {
      "display_name": "base",
      "language": "python",
      "name": "python3"
    },
    "language_info": {
      "codemirror_mode": {
        "name": "ipython",
        "version": 3
      },
      "file_extension": ".py",
      "mimetype": "text/x-python",
      "name": "python",
      "nbconvert_exporter": "python",
      "pygments_lexer": "ipython3",
      "version": "3.8.8"
    },
    "vscode": {
      "interpreter": {
        "hash": "3d733caf4ffc39d0fbd9a2ba54ef4b7d515956d8048931f8241efe3827fb2d1f"
      }
    }
  },
  "nbformat": 4,
  "nbformat_minor": 5
}
