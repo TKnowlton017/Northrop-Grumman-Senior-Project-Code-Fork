{
  "cells": [
    {
      "cell_type": "code",
      "execution_count": 2,
      "id": "29ab05d0",
      "metadata": {},
      "outputs": [
        {
          "ename": "RuntimeError",
          "evalue": "module compiled against API version 0xe but this version of numpy is 0xd",
          "output_type": "error",
          "traceback": [
            "\u001b[1;31m---------------------------------------------------------------------------\u001b[0m",
            "\u001b[1;31mRuntimeError\u001b[0m                              Traceback (most recent call last)",
            "\u001b[1;31mRuntimeError\u001b[0m: module compiled against API version 0xe but this version of numpy is 0xd"
          ]
        },
        {
          "ename": "RuntimeError",
          "evalue": "module compiled against API version 0xe but this version of numpy is 0xd",
          "output_type": "error",
          "traceback": [
            "\u001b[1;31m---------------------------------------------------------------------------\u001b[0m",
            "\u001b[1;31mRuntimeError\u001b[0m                              Traceback (most recent call last)",
            "\u001b[1;31mRuntimeError\u001b[0m: module compiled against API version 0xe but this version of numpy is 0xd"
          ]
        },
        {
          "ename": "RuntimeError",
          "evalue": "module compiled against API version 0xe but this version of numpy is 0xd",
          "output_type": "error",
          "traceback": [
            "\u001b[1;31m---------------------------------------------------------------------------\u001b[0m",
            "\u001b[1;31mRuntimeError\u001b[0m                              Traceback (most recent call last)",
            "\u001b[1;31mRuntimeError\u001b[0m: module compiled against API version 0xe but this version of numpy is 0xd"
          ]
        },
        {
          "name": "stderr",
          "output_type": "stream",
          "text": [
            "c:\\Users\\peter\\anaconda3\\lib\\site-packages\\l5kit\\dataset\\select_agents.py:31: UserWarning: Windows detected. BLOSC_NOLOCK has not been set as it causes memory leaks on Windows.However, writing the mask with this config may be inconsistent.\n",
            "  warnings.warn(\n"
          ]
        }
      ],
      "source": [
        "import torch\n",
        "import torch.nn as nn\n",
        "import pandas as pd\n",
        "import numpy as np\n",
        "from dateutil.parser import parse\n",
        "import torch.nn.functional as F\n",
        "from torch.utils.data import DataLoader, random_split, TensorDataset\n",
        "import matplotlib.pyplot as plt\n",
        "from l5kit.configs import load_config_data\n",
        "from l5kit.data import LocalDataManager, ChunkedDataset\n",
        "from l5kit.dataset import AgentDataset, EgoDataset\n",
        "from l5kit.rasterization import build_rasterizer\n",
        "from l5kit.evaluation import write_pred_csv, compute_metrics_csv, read_gt_csv, create_chopped_dataset\n",
        "from l5kit.evaluation.chop_dataset import MIN_FUTURE_STEPS\n",
        "from l5kit.evaluation.metrics import neg_multi_log_likelihood, time_displace\n",
        "from l5kit.geometry import transform_points\n",
        "from l5kit.visualization import PREDICTED_POINTS_COLOR, TARGET_POINTS_COLOR, draw_trajectory\n",
        "from prettytable import PrettyTable\n",
        "from pathlib import Path\n",
        "\n",
        "import os\n",
        "\n",
        "#device = 'cuda' if torch.cuda.is_available() else 'cpu'\n",
        "device = 'cpu'"
      ]
    },
    {
      "cell_type": "code",
      "execution_count": 3,
      "id": "4ea11915",
      "metadata": {},
      "outputs": [
        {
          "name": "stdout",
          "output_type": "stream",
          "text": [
            "+------------+------------+------------+---------------+-----------------+----------------------+----------------------+----------------------+---------------------+\n",
            "| Num Scenes | Num Frames | Num Agents | Num TR lights | Total Time (hr) | Avg Frames per Scene | Avg Agents per Frame | Avg Scene Time (sec) | Avg Frame frequency |\n",
            "+------------+------------+------------+---------------+-----------------+----------------------+----------------------+----------------------+---------------------+\n",
            "|    100     |   24838    |  1893736   |     316008    |       0.69      |        248.38        |        76.24         |        24.83         |        10.00        |\n",
            "+------------+------------+------------+---------------+-----------------+----------------------+----------------------+----------------------+---------------------+\n"
          ]
        }
      ],
      "source": [
        "# opening the zarr_dataset\n",
        "os.environ[\"L5KIT_DATA_FOLDER\"] = \"../../../prediction-dataset/\"\n",
        "#os.environ[\"L5KIT_DATA_FOLDER\"] = \"../prediction-sample-dataset/\"\n",
        "cfg = load_config_data(\"./visualisation_config.yaml\")\n",
        "dm = LocalDataManager()\n",
        "dataset_path = dm.require(cfg[\"val_data_loader\"][\"key\"])\n",
        "zarr_dataset = ChunkedDataset(dataset_path)\n",
        "zarr_dataset.open()\n",
        "\n",
        "# using EgoDataset interface to extract AV data\n",
        "rast = build_rasterizer(cfg, dm)\n",
        "ego_dataset = EgoDataset(cfg, zarr_dataset, rast)\n",
        "print(ego_dataset)\n",
        "# agent_dataset = AgentDataset(cfg, zarr_dataset, rast)"
      ]
    },
    {
      "cell_type": "code",
      "execution_count": 4,
      "id": "9c971117",
      "metadata": {},
      "outputs": [
        {
          "name": "stdout",
          "output_type": "stream",
          "text": [
            "[[    0   248]\n",
            " [  248   497]\n",
            " [  497   746]\n",
            " [  746   995]\n",
            " [  995  1244]\n",
            " [ 1244  1493]\n",
            " [ 1493  1742]\n",
            " [ 1742  1991]\n",
            " [ 1991  2240]\n",
            " [ 2240  2489]\n",
            " [ 2489  2738]\n",
            " [ 2738  2987]\n",
            " [ 2987  3236]\n",
            " [ 3236  3485]\n",
            " [ 3485  3734]\n",
            " [ 3734  3983]\n",
            " [ 3983  4232]\n",
            " [ 4232  4481]\n",
            " [ 4481  4730]\n",
            " [ 4730  4979]\n",
            " [ 4979  5228]\n",
            " [ 5228  5477]\n",
            " [ 5477  5725]\n",
            " [ 5725  5973]\n",
            " [ 5973  6221]\n",
            " [ 6221  6469]\n",
            " [ 6469  6717]\n",
            " [ 6717  6965]\n",
            " [ 6965  7213]\n",
            " [ 7213  7461]\n",
            " [ 7461  7709]\n",
            " [ 7709  7957]\n",
            " [ 7957  8205]\n",
            " [ 8205  8453]\n",
            " [ 8453  8701]\n",
            " [ 8701  8949]\n",
            " [ 8949  9197]\n",
            " [ 9197  9445]\n",
            " [ 9445  9693]\n",
            " [ 9693  9941]\n",
            " [ 9941 10189]\n",
            " [10189 10437]\n",
            " [10437 10685]\n",
            " [10685 10933]\n",
            " [10933 11182]\n",
            " [11182 11431]\n",
            " [11431 11680]\n",
            " [11680 11929]\n",
            " [11929 12177]\n",
            " [12177 12425]\n",
            " [12425 12673]\n",
            " [12673 12921]\n",
            " [12921 13169]\n",
            " [13169 13417]\n",
            " [13417 13665]\n",
            " [13665 13913]\n",
            " [13913 14161]\n",
            " [14161 14409]\n",
            " [14409 14657]\n",
            " [14657 14905]\n",
            " [14905 15153]\n",
            " [15153 15401]\n",
            " [15401 15649]\n",
            " [15649 15897]\n",
            " [15897 16145]\n",
            " [16145 16393]\n",
            " [16393 16641]\n",
            " [16641 16889]\n",
            " [16889 17137]\n",
            " [17137 17385]\n",
            " [17385 17633]\n",
            " [17633 17881]\n",
            " [17881 18129]\n",
            " [18129 18377]\n",
            " [18377 18625]\n",
            " [18625 18874]\n",
            " [18874 19123]\n",
            " [19123 19372]\n",
            " [19372 19621]\n",
            " [19621 19870]\n",
            " [19870 20118]\n",
            " [20118 20366]\n",
            " [20366 20614]\n",
            " [20614 20862]\n",
            " [20862 21110]\n",
            " [21110 21358]\n",
            " [21358 21607]\n",
            " [21607 21856]\n",
            " [21856 22105]\n",
            " [22105 22354]\n",
            " [22354 22603]\n",
            " [22603 22852]\n",
            " [22852 23101]\n",
            " [23101 23350]\n",
            " [23350 23598]\n",
            " [23598 23846]\n",
            " [23846 24094]\n",
            " [24094 24342]\n",
            " [24342 24590]\n",
            " [24590 24838]]\n"
          ]
        }
      ],
      "source": [
        "# printing the frame ranges that make up each scene\n",
        "scene_frame_indexes = np.array([[0,0]])\n",
        "for i in range(len(zarr_dataset.scenes)):\n",
        "    scene_frame_indexes = np.append(scene_frame_indexes, [[zarr_dataset.scenes[i][0][0], zarr_dataset.scenes[i][0][1]]], axis = 0)\n",
        "    \n",
        "scene_frame_indexes = np.delete(scene_frame_indexes, 0, 0)\n",
        "print(scene_frame_indexes)"
      ]
    },
    {
      "cell_type": "code",
      "execution_count": 5,
      "id": "e7ffcb87",
      "metadata": {},
      "outputs": [],
      "source": [
        "dataset = EgoDataset(cfg, zarr_dataset, rast)\n",
        "position_AV = np.empty((len(dataset), 5), dtype=np.float32)\n",
        "output = np.empty((len(dataset), 2), dtype=np.float32)\n",
        "for i, data in enumerate(dataset):\n",
        "    position_AV[i] = [data[\"centroid\"][0], data[\"centroid\"][1], data[\"yaw\"], data[\"target_velocities\"][0][0], data[\"target_velocities\"][0][1]]\n",
        "    output[i] = [data[\"target_positions\"][0][0], data[\"target_positions\"][0][1]]\n",
        "\n"
      ]
    },
    {
      "cell_type": "code",
      "execution_count": 6,
      "id": "eb8e6681",
      "metadata": {},
      "outputs": [],
      "source": [
        "\n",
        "inputs = torch.from_numpy(position_AV)\n",
        "outputs = torch.from_numpy(output)\n",
        "inputs = inputs.to(device)\n",
        "outputs = outputs.to(device)"
      ]
    },
    {
      "cell_type": "code",
      "execution_count": 7,
      "id": "21f0edc9",
      "metadata": {},
      "outputs": [],
      "source": [
        "dataset = TensorDataset(inputs, outputs)\n",
        "val_percent = 0.2\n",
        "num_rows = len(inputs)\n",
        "val_size = int(num_rows * val_percent)\n",
        "train_size = num_rows - val_size\n",
        "train_ds, val_ds = random_split(dataset, [train_size, val_size])"
      ]
    },
    {
      "cell_type": "code",
      "execution_count": 8,
      "id": "b7e23965",
      "metadata": {},
      "outputs": [],
      "source": [
        "batch_size = 32\n",
        "train_loader = DataLoader(train_ds, batch_size, shuffle = True, num_workers = 0)\n",
        "val_loader = DataLoader(val_ds, batch_size, num_workers = 0)"
      ]
    },
    {
      "cell_type": "code",
      "execution_count": 9,
      "id": "758cfa15",
      "metadata": {},
      "outputs": [],
      "source": [
        "class NeuralNetwork(nn.Module):\n",
        "    def __init__(self):\n",
        "        super().__init__()\n",
        "        self.layers = nn.Sequential(\n",
        "            nn.Linear(5, 32),\n",
        "            nn.ReLU(),\n",
        "            nn.Linear(32,64),\n",
        "            nn.ReLU(),\n",
        "            nn.Linear(64,2)\n",
        "        )\n",
        "        \n",
        "    def forward(self, xb):\n",
        "        out = self.layers(xb)                       \n",
        "        return out\n",
        "    \n",
        "    def training_step(self, batch):\n",
        "        inputs, targets = batch\n",
        "        # Generate predictions\n",
        "        out = self(inputs)          \n",
        "        # Calcuate loss\n",
        "        loss = F.mse_loss(input = out, target = targets, size_average = None, reduce = None, reduction = 'mean')  \n",
        "        return loss\n",
        "    \n",
        "    def validation_step(self, batch):\n",
        "        inputs, targets = batch\n",
        "        # Generate predictions\n",
        "        out = self(inputs)\n",
        "        # Calculate loss\n",
        "        loss = F.mse_loss(input = out, target = targets, size_average = None, reduce = None, reduction = 'mean')    \n",
        "        return {'val_loss': loss.detach()}\n",
        "        \n",
        "    def validation_epoch_end(self, outputs):\n",
        "        batch_losses = [x['val_loss'] for x in outputs]\n",
        "        epoch_loss = torch.stack(batch_losses).mean()   # Combine losses\n",
        "        return {'val_loss': epoch_loss.item()}\n",
        "    \n",
        "    def epoch_end(self, epoch, result, num_epochs):\n",
        "        # Print result every 20th epoch\n",
        "        if (epoch+1) % 20 == 0 or epoch == num_epochs-1:\n",
        "            print(\"Epoch [{}], val_loss: {:.4f}\".format(epoch+1, result['val_loss']))"
      ]
    },
    {
      "cell_type": "code",
      "execution_count": 21,
      "id": "5570e605",
      "metadata": {},
      "outputs": [
        {
          "data": {
            "text/plain": [
              "NeuralNetwork(\n",
              "  (layers): Sequential(\n",
              "    (0): Linear(in_features=5, out_features=32, bias=True)\n",
              "    (1): ReLU()\n",
              "    (2): Linear(in_features=32, out_features=64, bias=True)\n",
              "    (3): ReLU()\n",
              "    (4): Linear(in_features=64, out_features=2, bias=True)\n",
              "  )\n",
              ")"
            ]
          },
          "execution_count": 21,
          "metadata": {},
          "output_type": "execute_result"
        }
      ],
      "source": [
        "model = NeuralNetwork()\n",
        "model.to(device)"
      ]
    },
    {
      "cell_type": "code",
      "execution_count": 22,
      "id": "1f314be3",
      "metadata": {},
      "outputs": [],
      "source": [
        "def evaluate(model, val_loader):\n",
        "    outputs = [model.validation_step(batch) for batch in val_loader]\n",
        "    return model.validation_epoch_end(outputs)\n",
        "\n",
        "def fit(epochs, lr, model, train_loader, val_loader, opt_func = torch.optim.SGD):\n",
        "    history = []\n",
        "    optimizer = opt_func(model.parameters(), lr)\n",
        "    for epoch in range(epochs):\n",
        "        # Training Phase \n",
        "        for batch in train_loader:\n",
        "            loss = model.training_step(batch)\n",
        "            loss.backward()\n",
        "            optimizer.step()\n",
        "            optimizer.zero_grad()\n",
        "        # Validation phase\n",
        "        result = evaluate(model, val_loader)\n",
        "        model.epoch_end(epoch, result, epochs)\n",
        "        history.append(result)\n",
        "    return history"
      ]
    },
    {
      "cell_type": "code",
      "execution_count": 23,
      "id": "5aa9860a",
      "metadata": {},
      "outputs": [
        {
          "name": "stdout",
          "output_type": "stream",
          "text": [
            "{'val_loss': 987.251220703125}\n"
          ]
        }
      ],
      "source": [
        "result = evaluate(model, val_loader)\n",
        "print(result)"
      ]
    },
    {
      "cell_type": "code",
      "execution_count": 24,
      "id": "e97e6247",
      "metadata": {},
      "outputs": [
        {
          "name": "stdout",
          "output_type": "stream",
          "text": [
            "Epoch [20], val_loss: 0.2198\n",
            "Epoch [40], val_loss: 0.1199\n",
            "Epoch [60], val_loss: 0.0928\n",
            "Epoch [80], val_loss: 0.0807\n",
            "Epoch [100], val_loss: 0.0741\n",
            "Epoch [120], val_loss: 0.0672\n",
            "Epoch [140], val_loss: 0.0636\n",
            "Epoch [160], val_loss: 0.0579\n",
            "Epoch [180], val_loss: 0.0539\n",
            "Epoch [200], val_loss: 0.0503\n",
            "Epoch [220], val_loss: 0.0471\n",
            "Epoch [240], val_loss: 0.0446\n",
            "Epoch [260], val_loss: 0.0422\n",
            "Epoch [280], val_loss: 0.0396\n",
            "Epoch [300], val_loss: 0.0377\n",
            "Epoch [320], val_loss: 0.0366\n",
            "Epoch [340], val_loss: 0.0353\n",
            "Epoch [360], val_loss: 0.0332\n",
            "Epoch [380], val_loss: 0.0318\n",
            "Epoch [400], val_loss: 0.0305\n",
            "Epoch [420], val_loss: 0.0294\n",
            "Epoch [440], val_loss: 0.0286\n",
            "Epoch [460], val_loss: 0.0275\n",
            "Epoch [480], val_loss: 0.0262\n",
            "Epoch [500], val_loss: 0.0256\n",
            "Epoch [520], val_loss: 0.0244\n",
            "Epoch [540], val_loss: 0.0236\n",
            "Epoch [560], val_loss: 0.0233\n",
            "Epoch [580], val_loss: 0.0230\n",
            "Epoch [600], val_loss: 0.0215\n",
            "Epoch [620], val_loss: 0.0210\n",
            "Epoch [640], val_loss: 0.0198\n",
            "Epoch [660], val_loss: 0.0194\n",
            "Epoch [680], val_loss: 0.0185\n",
            "Epoch [700], val_loss: 0.0179\n",
            "Epoch [720], val_loss: 0.0174\n",
            "Epoch [740], val_loss: 0.0168\n",
            "Epoch [760], val_loss: 0.0162\n",
            "Epoch [780], val_loss: 0.0158\n",
            "Epoch [800], val_loss: 0.0154\n",
            "Epoch [820], val_loss: 0.0150\n",
            "Epoch [840], val_loss: 0.0144\n",
            "Epoch [860], val_loss: 0.0138\n",
            "Epoch [880], val_loss: 0.0134\n",
            "Epoch [900], val_loss: 0.0130\n",
            "Epoch [920], val_loss: 0.0123\n",
            "Epoch [940], val_loss: 0.0120\n",
            "Epoch [960], val_loss: 0.0115\n",
            "Epoch [980], val_loss: 0.0114\n",
            "Epoch [1000], val_loss: 0.0108\n"
          ]
        }
      ],
      "source": [
        "epochs = 1000\n",
        "lr = 1e-6\n",
        "history1 = fit(epochs, lr, model, train_loader, val_loader)"
      ]
    },
    {
      "cell_type": "code",
      "execution_count": 33,
      "id": "0577c648",
      "metadata": {},
      "outputs": [
        {
          "data": {
            "text/plain": [
              "NeuralNetwork(\n",
              "  (layers): Sequential(\n",
              "    (0): Linear(in_features=5, out_features=32, bias=True)\n",
              "    (1): ReLU()\n",
              "    (2): Linear(in_features=32, out_features=64, bias=True)\n",
              "    (3): ReLU()\n",
              "    (4): Linear(in_features=64, out_features=2, bias=True)\n",
              "  )\n",
              ")"
            ]
          },
          "execution_count": 33,
          "metadata": {},
          "output_type": "execute_result"
        }
      ],
      "source": [
        "#torch.save(model.state_dict(), 'model.pth')\n",
        "model = NeuralNetwork()\n",
        "model.load_state_dict(torch.load('model.pth'))\n",
        "model.eval()"
      ]
    },
    {
      "attachments": {},
      "cell_type": "markdown",
      "id": "540611a0",
      "metadata": {},
      "source": [
        "f1loss  val_loss = 0.0928 1000 epochs 1e-6 lr  \n",
        "mseloss val_loss = 0.0183 1000 epochs 1e-6 lr  \n",
        "mseloss val_loss = 0.0120 10000 epochs 1e-7 lr plateu  "
      ]
    },
    {
      "cell_type": "code",
      "execution_count": 34,
      "id": "8baf1ca3",
      "metadata": {},
      "outputs": [],
      "source": [
        "def predict_single(input, target, model):\n",
        "    inputs = input.unsqueeze(0)\n",
        "    predictions = model(inputs)                \n",
        "    prediction = predictions[0].detach()\n",
        "    return target, prediction"
      ]
    },
    {
      "cell_type": "code",
      "execution_count": 35,
      "id": "61b67dc6",
      "metadata": {},
      "outputs": [
        {
          "name": "stdout",
          "output_type": "stream",
          "text": [
            "(tensor([1.3350, 0.0056]), tensor([1.1961, 0.1438]))\n",
            "(tensor([0.0000e+00, 5.6843e-14]), tensor([ 0.1604, -0.0554]))\n",
            "(tensor([-7.1054e-14,  1.1369e-13]), tensor([ 0.0341, -0.0761]))\n",
            "(tensor([0.8777, 0.0051]), tensor([ 0.8407, -0.0455]))\n",
            "(tensor([5.6843e-14, 0.0000e+00]), tensor([ 0.2138, -0.3098]))\n",
            "(tensor([ 1.1369e-13, -2.8422e-14]), tensor([ 0.2001, -0.0979]))\n",
            "(tensor([ 1.1385, -0.0249]), tensor([0.8943, 0.2291]))\n",
            "(tensor([1.1369e-13, 0.0000e+00]), tensor([ 0.1770, -0.0536]))\n",
            "(tensor([0.1995, 0.0069]), tensor([0.3461, 0.0124]))\n",
            "(tensor([ 1.3564, -0.0074]), tensor([ 1.2058, -0.0248]))\n"
          ]
        }
      ],
      "source": [
        "for i in range(10):\n",
        "    input, target = val_ds[i]\n",
        "    print(predict_single(input, target, model))"
      ]
    },
    {
      "cell_type": "code",
      "execution_count": 36,
      "id": "eb490bd0",
      "metadata": {},
      "outputs": [],
      "source": [
        "targets = []\n",
        "predictions = []\n",
        "for i in range(len(val_ds)):\n",
        "    input, target = val_ds[i]\n",
        "    target, prediction = predict_single(input, target, model)\n",
        "    targets.append(target)\n",
        "    predictions.append(prediction)\n",
        "\n",
        "xtargets = []\n",
        "ytargets = []\n",
        "xpredictions = []\n",
        "ypredictions = []\n",
        "for i in range(len(targets)):\n",
        "    xtargets.append(targets[i][0])\n",
        "    ytargets.append(targets[i][1])\n",
        "    xpredictions.append(predictions[i][0])\n",
        "    ypredictions.append(predictions[i][1])\n"
      ]
    },
    {
      "cell_type": "code",
      "execution_count": 37,
      "id": "fb6700ff",
      "metadata": {},
      "outputs": [
        {
          "data": {
            "text/plain": [
              "Text(0.5, 1.0, 'Predictions')"
            ]
          },
          "execution_count": 37,
          "metadata": {},
          "output_type": "execute_result"
        },
        {
          "data": {
            "image/png": "[encoded data removed]",
            "text/plain": [
              "<Figure size 1440x720 with 2 Axes>"
            ]
          },
          "metadata": {
            "needs_background": "light"
          },
          "output_type": "display_data"
        }
      ],
      "source": [
        "fig, (ax1,ax2) = plt.subplots(2, figsize=(20, 10))\n",
        "ax1.scatter(xtargets, ytargets)\n",
        "ax1.set_title(\"Targets\")\n",
        "ax2.scatter(xpredictions, ypredictions)\n",
        "ax2.set_title(\"Predictions\")"
      ]
    },
    {
      "cell_type": "code",
      "execution_count": 30,
      "id": "e0a495d4",
      "metadata": {},
      "outputs": [],
      "source": [
        "def get_accuracy(predictx,actualx,predicty,actualy):\n",
        "        if predictx >= actualx*0.9 and predictx <= actualx*1.1 and predicty >= actualy*0.9 and predicty <= actualy*1.1:\n",
        "            return 1\n",
        "        else:\n",
        "            return 0"
      ]
    },
    {
      "cell_type": "code",
      "execution_count": 31,
      "id": "6d0f01d7",
      "metadata": {},
      "outputs": [
        {
          "name": "stdout",
          "output_type": "stream",
          "text": [
            "0.0026172740084558083\n"
          ]
        }
      ],
      "source": [
        "count = 0\n",
        "for i in range(len(predictions)):\n",
        "    count += get_accuracy(predictions[i][0],targets[i][0],predictions[i][1],targets[i][1])\n",
        "print(count/len(predictions))"
      ]
    },
    {
      "cell_type": "code",
      "execution_count": 32,
      "id": "9a6143db",
      "metadata": {},
      "outputs": [
        {
          "ename": "KeyboardInterrupt",
          "evalue": "",
          "output_type": "error",
          "traceback": [
            "\u001b[1;31m---------------------------------------------------------------------------\u001b[0m",
            "\u001b[1;31mAttributeError\u001b[0m                            Traceback (most recent call last)",
            "\u001b[1;32mc:\\Users\\peter\\anaconda3\\lib\\site-packages\\PIL\\ImageFile.py\u001b[0m in \u001b[0;36m_save\u001b[1;34m(im, fp, tile, bufsize)\u001b[0m\n\u001b[0;32m    499\u001b[0m     \u001b[1;32mtry\u001b[0m\u001b[1;33m:\u001b[0m\u001b[1;33m\u001b[0m\u001b[1;33m\u001b[0m\u001b[0m\n\u001b[1;32m--> 500\u001b[1;33m         \u001b[0mfh\u001b[0m \u001b[1;33m=\u001b[0m \u001b[0mfp\u001b[0m\u001b[1;33m.\u001b[0m\u001b[0mfileno\u001b[0m\u001b[1;33m(\u001b[0m\u001b[1;33m)\u001b[0m\u001b[1;33m\u001b[0m\u001b[1;33m\u001b[0m\u001b[0m\n\u001b[0m\u001b[0;32m    501\u001b[0m         \u001b[0mfp\u001b[0m\u001b[1;33m.\u001b[0m\u001b[0mflush\u001b[0m\u001b[1;33m(\u001b[0m\u001b[1;33m)\u001b[0m\u001b[1;33m\u001b[0m\u001b[1;33m\u001b[0m\u001b[0m\n",
            "\u001b[1;31mAttributeError\u001b[0m: '_idat' object has no attribute 'fileno'",
            "\nDuring handling of the above exception, another exception occurred:\n",
            "\u001b[1;31mKeyboardInterrupt\u001b[0m                         Traceback (most recent call last)",
            "\u001b[1;32m<ipython-input-32-fbf171a8264e>\u001b[0m in \u001b[0;36m<module>\u001b[1;34m\u001b[0m\n\u001b[0;32m     20\u001b[0m         \u001b[0mdraw_trajectory\u001b[0m\u001b[1;33m(\u001b[0m\u001b[0mim\u001b[0m\u001b[1;33m,\u001b[0m \u001b[0mtarget_positions_pixels\u001b[0m\u001b[1;33m,\u001b[0m \u001b[0mTARGET_POINTS_COLOR\u001b[0m\u001b[1;33m,\u001b[0m \u001b[0myaws\u001b[0m\u001b[1;33m=\u001b[0m\u001b[0mdata\u001b[0m\u001b[1;33m[\u001b[0m\u001b[1;34m\"target_yaws\"\u001b[0m\u001b[1;33m]\u001b[0m\u001b[1;33m)\u001b[0m\u001b[1;33m\u001b[0m\u001b[1;33m\u001b[0m\u001b[0m\n\u001b[0;32m     21\u001b[0m         \u001b[0mclear_output\u001b[0m\u001b[1;33m(\u001b[0m\u001b[0mwait\u001b[0m\u001b[1;33m=\u001b[0m\u001b[1;32mTrue\u001b[0m\u001b[1;33m)\u001b[0m\u001b[1;33m\u001b[0m\u001b[1;33m\u001b[0m\u001b[0m\n\u001b[1;32m---> 22\u001b[1;33m         \u001b[0mdisplay\u001b[0m\u001b[1;33m(\u001b[0m\u001b[0mPIL\u001b[0m\u001b[1;33m.\u001b[0m\u001b[0mImage\u001b[0m\u001b[1;33m.\u001b[0m\u001b[0mfromarray\u001b[0m\u001b[1;33m(\u001b[0m\u001b[0mim\u001b[0m\u001b[1;33m)\u001b[0m\u001b[1;33m)\u001b[0m\u001b[1;33m\u001b[0m\u001b[1;33m\u001b[0m\u001b[0m\n\u001b[0m",
            "\u001b[1;32mc:\\Users\\peter\\anaconda3\\lib\\site-packages\\IPython\\core\\display.py\u001b[0m in \u001b[0;36mdisplay\u001b[1;34m(include, exclude, metadata, transient, display_id, *objs, **kwargs)\u001b[0m\n\u001b[0;32m    311\u001b[0m             \u001b[0mpublish_display_data\u001b[0m\u001b[1;33m(\u001b[0m\u001b[0mdata\u001b[0m\u001b[1;33m=\u001b[0m\u001b[0mobj\u001b[0m\u001b[1;33m,\u001b[0m \u001b[0mmetadata\u001b[0m\u001b[1;33m=\u001b[0m\u001b[0mmetadata\u001b[0m\u001b[1;33m,\u001b[0m \u001b[1;33m**\u001b[0m\u001b[0mkwargs\u001b[0m\u001b[1;33m)\u001b[0m\u001b[1;33m\u001b[0m\u001b[1;33m\u001b[0m\u001b[0m\n\u001b[0;32m    312\u001b[0m         \u001b[1;32melse\u001b[0m\u001b[1;33m:\u001b[0m\u001b[1;33m\u001b[0m\u001b[1;33m\u001b[0m\u001b[0m\n\u001b[1;32m--> 313\u001b[1;33m             \u001b[0mformat_dict\u001b[0m\u001b[1;33m,\u001b[0m \u001b[0mmd_dict\u001b[0m \u001b[1;33m=\u001b[0m \u001b[0mformat\u001b[0m\u001b[1;33m(\u001b[0m\u001b[0mobj\u001b[0m\u001b[1;33m,\u001b[0m \u001b[0minclude\u001b[0m\u001b[1;33m=\u001b[0m\u001b[0minclude\u001b[0m\u001b[1;33m,\u001b[0m \u001b[0mexclude\u001b[0m\u001b[1;33m=\u001b[0m\u001b[0mexclude\u001b[0m\u001b[1;33m)\u001b[0m\u001b[1;33m\u001b[0m\u001b[1;33m\u001b[0m\u001b[0m\n\u001b[0m\u001b[0;32m    314\u001b[0m             \u001b[1;32mif\u001b[0m \u001b[1;32mnot\u001b[0m \u001b[0mformat_dict\u001b[0m\u001b[1;33m:\u001b[0m\u001b[1;33m\u001b[0m\u001b[1;33m\u001b[0m\u001b[0m\n\u001b[0;32m    315\u001b[0m                 \u001b[1;31m# nothing to display (e.g. _ipython_display_ took over)\u001b[0m\u001b[1;33m\u001b[0m\u001b[1;33m\u001b[0m\u001b[1;33m\u001b[0m\u001b[0m\n",
            "\u001b[1;32mc:\\Users\\peter\\anaconda3\\lib\\site-packages\\IPython\\core\\formatters.py\u001b[0m in \u001b[0;36mformat\u001b[1;34m(self, obj, include, exclude)\u001b[0m\n\u001b[0;32m    178\u001b[0m             \u001b[0mmd\u001b[0m \u001b[1;33m=\u001b[0m \u001b[1;32mNone\u001b[0m\u001b[1;33m\u001b[0m\u001b[1;33m\u001b[0m\u001b[0m\n\u001b[0;32m    179\u001b[0m             \u001b[1;32mtry\u001b[0m\u001b[1;33m:\u001b[0m\u001b[1;33m\u001b[0m\u001b[1;33m\u001b[0m\u001b[0m\n\u001b[1;32m--> 180\u001b[1;33m                 \u001b[0mdata\u001b[0m \u001b[1;33m=\u001b[0m \u001b[0mformatter\u001b[0m\u001b[1;33m(\u001b[0m\u001b[0mobj\u001b[0m\u001b[1;33m)\u001b[0m\u001b[1;33m\u001b[0m\u001b[1;33m\u001b[0m\u001b[0m\n\u001b[0m\u001b[0;32m    181\u001b[0m             \u001b[1;32mexcept\u001b[0m\u001b[1;33m:\u001b[0m\u001b[1;33m\u001b[0m\u001b[1;33m\u001b[0m\u001b[0m\n\u001b[0;32m    182\u001b[0m                 \u001b[1;31m# FIXME: log the exception\u001b[0m\u001b[1;33m\u001b[0m\u001b[1;33m\u001b[0m\u001b[1;33m\u001b[0m\u001b[0m\n",
            "\u001b[1;32mc:\\Users\\peter\\anaconda3\\lib\\site-packages\\decorator.py\u001b[0m in \u001b[0;36mfun\u001b[1;34m(*args, **kw)\u001b[0m\n\u001b[0;32m    229\u001b[0m             \u001b[1;32mif\u001b[0m \u001b[1;32mnot\u001b[0m \u001b[0mkwsyntax\u001b[0m\u001b[1;33m:\u001b[0m\u001b[1;33m\u001b[0m\u001b[1;33m\u001b[0m\u001b[0m\n\u001b[0;32m    230\u001b[0m                 \u001b[0margs\u001b[0m\u001b[1;33m,\u001b[0m \u001b[0mkw\u001b[0m \u001b[1;33m=\u001b[0m \u001b[0mfix\u001b[0m\u001b[1;33m(\u001b[0m\u001b[0margs\u001b[0m\u001b[1;33m,\u001b[0m \u001b[0mkw\u001b[0m\u001b[1;33m,\u001b[0m \u001b[0msig\u001b[0m\u001b[1;33m)\u001b[0m\u001b[1;33m\u001b[0m\u001b[1;33m\u001b[0m\u001b[0m\n\u001b[1;32m--> 231\u001b[1;33m             \u001b[1;32mreturn\u001b[0m \u001b[0mcaller\u001b[0m\u001b[1;33m(\u001b[0m\u001b[0mfunc\u001b[0m\u001b[1;33m,\u001b[0m \u001b[1;33m*\u001b[0m\u001b[1;33m(\u001b[0m\u001b[0mextras\u001b[0m \u001b[1;33m+\u001b[0m \u001b[0margs\u001b[0m\u001b[1;33m)\u001b[0m\u001b[1;33m,\u001b[0m \u001b[1;33m**\u001b[0m\u001b[0mkw\u001b[0m\u001b[1;33m)\u001b[0m\u001b[1;33m\u001b[0m\u001b[1;33m\u001b[0m\u001b[0m\n\u001b[0m\u001b[0;32m    232\u001b[0m     \u001b[0mfun\u001b[0m\u001b[1;33m.\u001b[0m\u001b[0m__name__\u001b[0m \u001b[1;33m=\u001b[0m \u001b[0mfunc\u001b[0m\u001b[1;33m.\u001b[0m\u001b[0m__name__\u001b[0m\u001b[1;33m\u001b[0m\u001b[1;33m\u001b[0m\u001b[0m\n\u001b[0;32m    233\u001b[0m     \u001b[0mfun\u001b[0m\u001b[1;33m.\u001b[0m\u001b[0m__doc__\u001b[0m \u001b[1;33m=\u001b[0m \u001b[0mfunc\u001b[0m\u001b[1;33m.\u001b[0m\u001b[0m__doc__\u001b[0m\u001b[1;33m\u001b[0m\u001b[1;33m\u001b[0m\u001b[0m\n",
            "\u001b[1;32mc:\\Users\\peter\\anaconda3\\lib\\site-packages\\IPython\\core\\formatters.py\u001b[0m in \u001b[0;36mcatch_format_error\u001b[1;34m(method, self, *args, **kwargs)\u001b[0m\n\u001b[0;32m    222\u001b[0m     \u001b[1;34m\"\"\"show traceback on failed format call\"\"\"\u001b[0m\u001b[1;33m\u001b[0m\u001b[1;33m\u001b[0m\u001b[0m\n\u001b[0;32m    223\u001b[0m     \u001b[1;32mtry\u001b[0m\u001b[1;33m:\u001b[0m\u001b[1;33m\u001b[0m\u001b[1;33m\u001b[0m\u001b[0m\n\u001b[1;32m--> 224\u001b[1;33m         \u001b[0mr\u001b[0m \u001b[1;33m=\u001b[0m \u001b[0mmethod\u001b[0m\u001b[1;33m(\u001b[0m\u001b[0mself\u001b[0m\u001b[1;33m,\u001b[0m \u001b[1;33m*\u001b[0m\u001b[0margs\u001b[0m\u001b[1;33m,\u001b[0m \u001b[1;33m**\u001b[0m\u001b[0mkwargs\u001b[0m\u001b[1;33m)\u001b[0m\u001b[1;33m\u001b[0m\u001b[1;33m\u001b[0m\u001b[0m\n\u001b[0m\u001b[0;32m    225\u001b[0m     \u001b[1;32mexcept\u001b[0m \u001b[0mNotImplementedError\u001b[0m\u001b[1;33m:\u001b[0m\u001b[1;33m\u001b[0m\u001b[1;33m\u001b[0m\u001b[0m\n\u001b[0;32m    226\u001b[0m         \u001b[1;31m# don't warn on NotImplementedErrors\u001b[0m\u001b[1;33m\u001b[0m\u001b[1;33m\u001b[0m\u001b[1;33m\u001b[0m\u001b[0m\n",
            "\u001b[1;32mc:\\Users\\peter\\anaconda3\\lib\\site-packages\\IPython\\core\\formatters.py\u001b[0m in \u001b[0;36m__call__\u001b[1;34m(self, obj)\u001b[0m\n\u001b[0;32m    343\u001b[0m             \u001b[0mmethod\u001b[0m \u001b[1;33m=\u001b[0m \u001b[0mget_real_method\u001b[0m\u001b[1;33m(\u001b[0m\u001b[0mobj\u001b[0m\u001b[1;33m,\u001b[0m \u001b[0mself\u001b[0m\u001b[1;33m.\u001b[0m\u001b[0mprint_method\u001b[0m\u001b[1;33m)\u001b[0m\u001b[1;33m\u001b[0m\u001b[1;33m\u001b[0m\u001b[0m\n\u001b[0;32m    344\u001b[0m             \u001b[1;32mif\u001b[0m \u001b[0mmethod\u001b[0m \u001b[1;32mis\u001b[0m \u001b[1;32mnot\u001b[0m \u001b[1;32mNone\u001b[0m\u001b[1;33m:\u001b[0m\u001b[1;33m\u001b[0m\u001b[1;33m\u001b[0m\u001b[0m\n\u001b[1;32m--> 345\u001b[1;33m                 \u001b[1;32mreturn\u001b[0m \u001b[0mmethod\u001b[0m\u001b[1;33m(\u001b[0m\u001b[1;33m)\u001b[0m\u001b[1;33m\u001b[0m\u001b[1;33m\u001b[0m\u001b[0m\n\u001b[0m\u001b[0;32m    346\u001b[0m             \u001b[1;32mreturn\u001b[0m \u001b[1;32mNone\u001b[0m\u001b[1;33m\u001b[0m\u001b[1;33m\u001b[0m\u001b[0m\n\u001b[0;32m    347\u001b[0m         \u001b[1;32melse\u001b[0m\u001b[1;33m:\u001b[0m\u001b[1;33m\u001b[0m\u001b[1;33m\u001b[0m\u001b[0m\n",
            "\u001b[1;32mc:\\Users\\peter\\anaconda3\\lib\\site-packages\\PIL\\Image.py\u001b[0m in \u001b[0;36m_repr_png_\u001b[1;34m(self)\u001b[0m\n\u001b[0;32m    672\u001b[0m         \u001b[0mb\u001b[0m \u001b[1;33m=\u001b[0m \u001b[0mio\u001b[0m\u001b[1;33m.\u001b[0m\u001b[0mBytesIO\u001b[0m\u001b[1;33m(\u001b[0m\u001b[1;33m)\u001b[0m\u001b[1;33m\u001b[0m\u001b[1;33m\u001b[0m\u001b[0m\n\u001b[0;32m    673\u001b[0m         \u001b[1;32mtry\u001b[0m\u001b[1;33m:\u001b[0m\u001b[1;33m\u001b[0m\u001b[1;33m\u001b[0m\u001b[0m\n\u001b[1;32m--> 674\u001b[1;33m             \u001b[0mself\u001b[0m\u001b[1;33m.\u001b[0m\u001b[0msave\u001b[0m\u001b[1;33m(\u001b[0m\u001b[0mb\u001b[0m\u001b[1;33m,\u001b[0m \u001b[1;34m\"PNG\"\u001b[0m\u001b[1;33m)\u001b[0m\u001b[1;33m\u001b[0m\u001b[1;33m\u001b[0m\u001b[0m\n\u001b[0m\u001b[0;32m    675\u001b[0m         \u001b[1;32mexcept\u001b[0m \u001b[0mException\u001b[0m \u001b[1;32mas\u001b[0m \u001b[0me\u001b[0m\u001b[1;33m:\u001b[0m\u001b[1;33m\u001b[0m\u001b[1;33m\u001b[0m\u001b[0m\n\u001b[0;32m    676\u001b[0m             \u001b[1;32mraise\u001b[0m \u001b[0mValueError\u001b[0m\u001b[1;33m(\u001b[0m\u001b[1;34m\"Could not save to PNG for display\"\u001b[0m\u001b[1;33m)\u001b[0m \u001b[1;32mfrom\u001b[0m \u001b[0me\u001b[0m\u001b[1;33m\u001b[0m\u001b[1;33m\u001b[0m\u001b[0m\n",
            "\u001b[1;32mc:\\Users\\peter\\anaconda3\\lib\\site-packages\\PIL\\Image.py\u001b[0m in \u001b[0;36msave\u001b[1;34m(self, fp, format, **params)\u001b[0m\n\u001b[0;32m   2170\u001b[0m \u001b[1;33m\u001b[0m\u001b[0m\n\u001b[0;32m   2171\u001b[0m         \u001b[1;32mtry\u001b[0m\u001b[1;33m:\u001b[0m\u001b[1;33m\u001b[0m\u001b[1;33m\u001b[0m\u001b[0m\n\u001b[1;32m-> 2172\u001b[1;33m             \u001b[0msave_handler\u001b[0m\u001b[1;33m(\u001b[0m\u001b[0mself\u001b[0m\u001b[1;33m,\u001b[0m \u001b[0mfp\u001b[0m\u001b[1;33m,\u001b[0m \u001b[0mfilename\u001b[0m\u001b[1;33m)\u001b[0m\u001b[1;33m\u001b[0m\u001b[1;33m\u001b[0m\u001b[0m\n\u001b[0m\u001b[0;32m   2173\u001b[0m         \u001b[1;32mfinally\u001b[0m\u001b[1;33m:\u001b[0m\u001b[1;33m\u001b[0m\u001b[1;33m\u001b[0m\u001b[0m\n\u001b[0;32m   2174\u001b[0m             \u001b[1;31m# do what we can to clean up\u001b[0m\u001b[1;33m\u001b[0m\u001b[1;33m\u001b[0m\u001b[1;33m\u001b[0m\u001b[0m\n",
            "\u001b[1;32mc:\\Users\\peter\\anaconda3\\lib\\site-packages\\PIL\\PngImagePlugin.py\u001b[0m in \u001b[0;36m_save\u001b[1;34m(im, fp, filename, chunk, save_all)\u001b[0m\n\u001b[0;32m   1333\u001b[0m         \u001b[0m_write_multiple_frames\u001b[0m\u001b[1;33m(\u001b[0m\u001b[0mim\u001b[0m\u001b[1;33m,\u001b[0m \u001b[0mfp\u001b[0m\u001b[1;33m,\u001b[0m \u001b[0mchunk\u001b[0m\u001b[1;33m,\u001b[0m \u001b[0mrawmode\u001b[0m\u001b[1;33m)\u001b[0m\u001b[1;33m\u001b[0m\u001b[1;33m\u001b[0m\u001b[0m\n\u001b[0;32m   1334\u001b[0m     \u001b[1;32melse\u001b[0m\u001b[1;33m:\u001b[0m\u001b[1;33m\u001b[0m\u001b[1;33m\u001b[0m\u001b[0m\n\u001b[1;32m-> 1335\u001b[1;33m         \u001b[0mImageFile\u001b[0m\u001b[1;33m.\u001b[0m\u001b[0m_save\u001b[0m\u001b[1;33m(\u001b[0m\u001b[0mim\u001b[0m\u001b[1;33m,\u001b[0m \u001b[0m_idat\u001b[0m\u001b[1;33m(\u001b[0m\u001b[0mfp\u001b[0m\u001b[1;33m,\u001b[0m \u001b[0mchunk\u001b[0m\u001b[1;33m)\u001b[0m\u001b[1;33m,\u001b[0m \u001b[1;33m[\u001b[0m\u001b[1;33m(\u001b[0m\u001b[1;34m\"zip\"\u001b[0m\u001b[1;33m,\u001b[0m \u001b[1;33m(\u001b[0m\u001b[1;36m0\u001b[0m\u001b[1;33m,\u001b[0m \u001b[1;36m0\u001b[0m\u001b[1;33m)\u001b[0m \u001b[1;33m+\u001b[0m \u001b[0mim\u001b[0m\u001b[1;33m.\u001b[0m\u001b[0msize\u001b[0m\u001b[1;33m,\u001b[0m \u001b[1;36m0\u001b[0m\u001b[1;33m,\u001b[0m \u001b[0mrawmode\u001b[0m\u001b[1;33m)\u001b[0m\u001b[1;33m]\u001b[0m\u001b[1;33m)\u001b[0m\u001b[1;33m\u001b[0m\u001b[1;33m\u001b[0m\u001b[0m\n\u001b[0m\u001b[0;32m   1336\u001b[0m \u001b[1;33m\u001b[0m\u001b[0m\n\u001b[0;32m   1337\u001b[0m     \u001b[1;32mif\u001b[0m \u001b[0minfo\u001b[0m\u001b[1;33m:\u001b[0m\u001b[1;33m\u001b[0m\u001b[1;33m\u001b[0m\u001b[0m\n",
            "\u001b[1;32mc:\\Users\\peter\\anaconda3\\lib\\site-packages\\PIL\\ImageFile.py\u001b[0m in \u001b[0;36m_save\u001b[1;34m(im, fp, tile, bufsize)\u001b[0m\n\u001b[0;32m    512\u001b[0m             \u001b[1;32melse\u001b[0m\u001b[1;33m:\u001b[0m\u001b[1;33m\u001b[0m\u001b[1;33m\u001b[0m\u001b[0m\n\u001b[0;32m    513\u001b[0m                 \u001b[1;32mwhile\u001b[0m \u001b[1;32mTrue\u001b[0m\u001b[1;33m:\u001b[0m\u001b[1;33m\u001b[0m\u001b[1;33m\u001b[0m\u001b[0m\n\u001b[1;32m--> 514\u001b[1;33m                     \u001b[0ml\u001b[0m\u001b[1;33m,\u001b[0m \u001b[0ms\u001b[0m\u001b[1;33m,\u001b[0m \u001b[0md\u001b[0m \u001b[1;33m=\u001b[0m \u001b[0me\u001b[0m\u001b[1;33m.\u001b[0m\u001b[0mencode\u001b[0m\u001b[1;33m(\u001b[0m\u001b[0mbufsize\u001b[0m\u001b[1;33m)\u001b[0m\u001b[1;33m\u001b[0m\u001b[1;33m\u001b[0m\u001b[0m\n\u001b[0m\u001b[0;32m    515\u001b[0m                     \u001b[0mfp\u001b[0m\u001b[1;33m.\u001b[0m\u001b[0mwrite\u001b[0m\u001b[1;33m(\u001b[0m\u001b[0md\u001b[0m\u001b[1;33m)\u001b[0m\u001b[1;33m\u001b[0m\u001b[1;33m\u001b[0m\u001b[0m\n\u001b[0;32m    516\u001b[0m                     \u001b[1;32mif\u001b[0m \u001b[0ms\u001b[0m\u001b[1;33m:\u001b[0m\u001b[1;33m\u001b[0m\u001b[1;33m\u001b[0m\u001b[0m\n",
            "\u001b[1;31mKeyboardInterrupt\u001b[0m: "
          ]
        }
      ],
      "source": [
        "from IPython.display import display, clear_output\n",
        "import PIL\n",
        " \n",
        "cfg[\"raster_params\"][\"map_type\"] = \"py_satellite\"\n",
        "rast = build_rasterizer(cfg, dm)\n",
        "dataset = EgoDataset(cfg, zarr_dataset, rast)\n",
        "\n",
        "\n",
        "for i in range(100):\n",
        "    scene_idx = i\n",
        "    indexes = dataset.get_scene_indices(scene_idx)\n",
        "    images = []\n",
        "    for idx in indexes:\n",
        "\n",
        "        data = dataset[idx]\n",
        "        im = data[\"image\"].transpose(1, 2, 0)\n",
        "        im = dataset.rasterizer.to_rgb(im)\n",
        "        target_positions_pixels = transform_points(data[\"target_positions\"], data[\"raster_from_agent\"])\n",
        "        center_in_pixels = np.asarray(cfg[\"raster_params\"][\"ego_center\"]) * cfg[\"raster_params\"][\"raster_size\"]\n",
        "        draw_trajectory(im, target_positions_pixels, TARGET_POINTS_COLOR, yaws=data[\"target_yaws\"])\n",
        "        clear_output(wait=True)\n",
        "        display(PIL.Image.fromarray(im))"
      ]
    },
    {
      "cell_type": "code",
      "execution_count": null,
      "id": "92a8d83b",
      "metadata": {},
      "outputs": [],
      "source": []
    }
  ],
  "metadata": {
    "kernelspec": {
      "display_name": "base",
      "language": "python",
      "name": "python3"
    },
    "language_info": {
      "codemirror_mode": {
        "name": "ipython",
        "version": 3
      },
      "file_extension": ".py",
      "mimetype": "text/x-python",
      "name": "python",
      "nbconvert_exporter": "python",
      "pygments_lexer": "ipython3",
      "version": "3.8.8"
    },
    "vscode": {
      "interpreter": {
        "hash": "3d733caf4ffc39d0fbd9a2ba54ef4b7d515956d8048931f8241efe3827fb2d1f"
      }
    }
  },
  "nbformat": 4,
  "nbformat_minor": 5
}
