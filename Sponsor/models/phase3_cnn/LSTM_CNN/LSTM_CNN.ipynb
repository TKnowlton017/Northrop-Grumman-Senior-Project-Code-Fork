{
 "cells": [
  {
   "cell_type": "code",
   "execution_count": 1,
   "metadata": {},
   "outputs": [
    {
     "name": "stderr",
     "output_type": "stream",
     "text": [
      "C:\\Users\\peter\\AppData\\Roaming\\Python\\Python38\\site-packages\\l5kit\\dataset\\select_agents.py:31: UserWarning: Windows detected. BLOSC_NOLOCK has not been set as it causes memory leaks on Windows.However, writing the mask with this config may be inconsistent.\n",
      "  warnings.warn(\n"
     ]
    }
   ],
   "source": [
    "import os\n",
    "os.environ[\"KMP_DUPLICATE_LIB_OK\"]=\"TRUE\"\n",
    "from typing import Dict\n",
    "\n",
    "from tempfile import gettempdir\n",
    "import matplotlib.pyplot as plt\n",
    "import numpy as np\n",
    "import torch\n",
    "from torch import nn, optim\n",
    "from torch.utils.data import DataLoader\n",
    "from torchvision.models.resnet import resnet50\n",
    "from tqdm import tqdm\n",
    "\n",
    "from l5kit.configs import load_config_data\n",
    "from l5kit.data import LocalDataManager, ChunkedDataset\n",
    "from l5kit.dataset import AgentDataset, EgoDataset\n",
    "from l5kit.rasterization import build_rasterizer\n",
    "from l5kit.evaluation import write_pred_csv, compute_metrics_csv, read_gt_csv, create_chopped_dataset\n",
    "from l5kit.evaluation.chop_dataset import MIN_FUTURE_STEPS\n",
    "from l5kit.evaluation.metrics import neg_multi_log_likelihood, time_displace\n",
    "from l5kit.geometry import transform_points\n",
    "from l5kit.visualization import PREDICTED_POINTS_COLOR, TARGET_POINTS_COLOR, draw_trajectory\n",
    "from prettytable import PrettyTable\n",
    "from pathlib import Path"
   ]
  },
  {
   "cell_type": "code",
   "execution_count": 2,
   "metadata": {},
   "outputs": [
    {
     "name": "stdout",
     "output_type": "stream",
     "text": [
      "1.5.0\n"
     ]
    }
   ],
   "source": [
    "import l5kit\n",
    "print(l5kit.__version__)"
   ]
  },
  {
   "cell_type": "code",
   "execution_count": 3,
   "metadata": {},
   "outputs": [],
   "source": [
    "cfg = load_config_data(\"LSTM_CNN.yaml\")\n",
    "os.environ[\"L5KIT_DATA_FOLDER\"] = \"../../../../../prediction-dataset/\"\n",
    "dm = LocalDataManager(None)"
   ]
  },
  {
   "cell_type": "code",
   "execution_count": 4,
   "metadata": {},
   "outputs": [],
   "source": [
    "from l5kit.data import ChunkedDataset\n",
    "\n",
    "rasterizer = build_rasterizer(cfg, dm)\n",
    "\n",
    "train_dataset_path = dm.require(cfg['train_data_loader']['key'])\n",
    "train_zarr_dataset = ChunkedDataset(train_dataset_path).open()\n",
    "train_dataset = AgentDataset(cfg, train_zarr_dataset, rasterizer)\n",
    "train_dataloader = DataLoader(train_dataset, shuffle=cfg['train_data_loader']['shuffle'],\n",
    "                              batch_size=cfg['train_data_loader']['batch_size'], num_workers=cfg['train_data_loader']['num_workers'])\n",
    "\n",
    "val_dataset_path = dm.require(cfg['val_data_loader']['key'])\n",
    "val_zarr_dataset = ChunkedDataset(val_dataset_path).open()\n",
    "val_dataset = AgentDataset(cfg, val_zarr_dataset, rasterizer)\n",
    "val_dataloader = DataLoader(val_dataset, shuffle=cfg['val_data_loader']['shuffle'],\n",
    "                            batch_size=cfg['val_data_loader']['batch_size'], num_workers=cfg['val_data_loader']['num_workers'])\n",
    "\n",
    "test_dataset_path = dm.require(cfg['test_data_loader']['key'])\n",
    "test_zarr_dataset = ChunkedDataset(test_dataset_path).open()\n",
    "test_dataset = AgentDataset(cfg, test_zarr_dataset, rasterizer)\n",
    "test_dataloader = DataLoader(test_dataset, shuffle=cfg['test_data_loader']['shuffle'],\n",
    "                             batch_size=cfg['test_data_loader']['batch_size'], num_workers=cfg['test_data_loader']['num_workers'])\n"
   ]
  },
  {
   "cell_type": "code",
   "execution_count": 5,
   "metadata": {},
   "outputs": [],
   "source": [
    "class MultiTrajectoryModel(nn.Module):\n",
    "    def __init__(self, cfg: Dict, num_modes=3):\n",
    "        super().__init__()\n",
    "\n",
    "        self.backbone = torch.hub.load('pytorch/vision:v0.6.0', 'resnet50', pretrained=True)\n",
    "        num_history_channels = (cfg[\"model_params\"][\"history_num_frames\"] + 1) * 2\n",
    "        num_in_channels = 3 + num_history_channels\n",
    "        self.backbone.conv1 = nn.Conv2d(\n",
    "            num_in_channels,\n",
    "            self.backbone.conv1.out_channels,\n",
    "            kernel_size=self.backbone.conv1.kernel_size,\n",
    "            stride=self.backbone.conv1.stride,\n",
    "            padding=self.backbone.conv1.padding,\n",
    "            bias=False,\n",
    "        )\n",
    "        self.backbone = nn.Sequential(*list(self.backbone.children())[:-2])\n",
    "\n",
    "        self.num_modes = num_modes\n",
    "        self.num_targets = 2 * cfg[\"model_params\"][\"future_num_frames\"]\n",
    "\n",
    "        # Calculate the output features of the backbone\n",
    "        input_shape = (num_in_channels, cfg[\"raster_params\"][\"raster_size\"][1], cfg[\"raster_params\"][\"raster_size\"][0])\n",
    "        backbone_out_features = self.backbone_out_features(input_shape)\n",
    "\n",
    "        self.fc = nn.Linear(backbone_out_features, self.num_targets * num_modes + num_modes)\n",
    "\n",
    "    def backbone_out_features(self, input_shape):\n",
    "        with torch.no_grad():\n",
    "            x = torch.zeros(1, *input_shape)\n",
    "            x = self.backbone(x)\n",
    "            _, C, H, W = x.shape\n",
    "            return C * H * W\n",
    "\n",
    "    def forward(self, x):\n",
    "        x = self.backbone(x)\n",
    "        x = torch.flatten(x, start_dim=1)\n",
    "        x = self.fc(x)\n",
    "\n",
    "        bs, _ = x.shape\n",
    "        output_features = x.shape[1] - self.num_modes\n",
    "        self.num_targets = output_features // (self.num_modes * 2)\n",
    "        pred, confidences = x.split([self.num_modes * self.num_targets * 2, self.num_modes], dim=1)\n",
    "        pred = pred.view(bs, self.num_modes, self.num_targets, 2)\n",
    "        confidences = torch.softmax(confidences, dim=1)\n",
    "        return pred, confidences\n",
    "\n",
    "\n"
   ]
  },
  {
   "cell_type": "code",
   "execution_count": 6,
   "metadata": {},
   "outputs": [
    {
     "name": "stderr",
     "output_type": "stream",
     "text": [
      "Using cache found in C:\\Users\\peter/.cache\\torch\\hub\\pytorch_vision_v0.6.0\n",
      "c:\\Users\\peter\\anaconda3\\lib\\site-packages\\torchvision\\models\\_utils.py:208: UserWarning: The parameter 'pretrained' is deprecated since 0.13 and may be removed in the future, please use 'weights' instead.\n",
      "  warnings.warn(\n",
      "c:\\Users\\peter\\anaconda3\\lib\\site-packages\\torchvision\\models\\_utils.py:223: UserWarning: Arguments other than a weight enum or `None` for 'weights' are deprecated since 0.13 and may be removed in the future. The current behavior is equivalent to passing `weights=ResNet50_Weights.IMAGENET1K_V1`. You can also use `weights=ResNet50_Weights.DEFAULT` to get the most up-to-date weights.\n",
      "  warnings.warn(msg)\n"
     ]
    }
   ],
   "source": [
    "device = torch.device(\"cuda:0\" if torch.cuda.is_available() else \"cpu\")\n",
    "model = MultiTrajectoryModel(cfg).to(device)\n",
    "optimizer = torch.optim.Adam(model.parameters(), lr=1e-4)\n",
    "criterion = torch.nn.MSELoss(reduction=\"none\")"
   ]
  },
  {
   "cell_type": "code",
   "execution_count": 7,
   "metadata": {},
   "outputs": [
    {
     "name": "stdout",
     "output_type": "stream",
     "text": [
      "Epoch: 1/1, Batch: 100/6978, Loss: 56284.98828125\n",
      "Epoch: 1/1, Batch: 200/6978, Loss: 7227.6689453125\n",
      "Epoch: 1/1, Batch: 300/6978, Loss: 9825.8984375\n",
      "Epoch: 1/1, Batch: 400/6978, Loss: 6863.912109375\n",
      "Epoch: 1/1, Batch: 500/6978, Loss: 11293.802734375\n",
      "Epoch: 1/1, Batch: 600/6978, Loss: 29265.900390625\n",
      "Epoch: 1/1, Batch: 700/6978, Loss: 47846.4296875\n",
      "Epoch: 1/1, Batch: 800/6978, Loss: 29932.958984375\n",
      "Epoch: 1/1, Batch: 900/6978, Loss: 52798.3359375\n",
      "Epoch: 1/1, Batch: 1000/6978, Loss: 10153.3857421875\n",
      "Epoch: 1/1, Batch: 1100/6978, Loss: 24585.705078125\n",
      "Epoch: 1/1, Batch: 1200/6978, Loss: 6564.8359375\n",
      "Epoch: 1/1, Batch: 1300/6978, Loss: 2709.645751953125\n",
      "Epoch: 1/1, Batch: 1400/6978, Loss: 34981.9609375\n",
      "Epoch: 1/1, Batch: 1500/6978, Loss: 21480.46484375\n",
      "Epoch: 1/1, Batch: 1600/6978, Loss: 5399.2734375\n",
      "Epoch: 1/1, Batch: 1700/6978, Loss: 9951.1591796875\n",
      "Epoch: 1/1, Batch: 1800/6978, Loss: 11958.4580078125\n",
      "Epoch: 1/1, Batch: 1900/6978, Loss: 8809.060546875\n",
      "Epoch: 1/1, Batch: 2000/6978, Loss: 8113.0869140625\n",
      "Epoch: 1/1, Batch: 2100/6978, Loss: 9604.3515625\n",
      "Epoch: 1/1, Batch: 2200/6978, Loss: 12880.3203125\n",
      "Epoch: 1/1, Batch: 2300/6978, Loss: 29142.427734375\n",
      "Epoch: 1/1, Batch: 2400/6978, Loss: 3853.310546875\n",
      "Epoch: 1/1, Batch: 2500/6978, Loss: 17956.384765625\n",
      "Epoch: 1/1, Batch: 2600/6978, Loss: 12298.9326171875\n",
      "Epoch: 1/1, Batch: 2700/6978, Loss: 10366.6376953125\n",
      "Epoch: 1/1, Batch: 2800/6978, Loss: 10113.9072265625\n",
      "Epoch: 1/1, Batch: 2900/6978, Loss: 6126.2041015625\n",
      "Epoch: 1/1, Batch: 3000/6978, Loss: 9076.2392578125\n",
      "Epoch: 1/1, Batch: 3100/6978, Loss: 4268.82275390625\n",
      "Epoch: 1/1, Batch: 3200/6978, Loss: 17424.833984375\n",
      "Epoch: 1/1, Batch: 3300/6978, Loss: 4541.2353515625\n",
      "Epoch: 1/1, Batch: 3400/6978, Loss: 10934.197265625\n",
      "Epoch: 1/1, Batch: 3500/6978, Loss: 6947.4638671875\n",
      "Epoch: 1/1, Batch: 3600/6978, Loss: 19827.248046875\n",
      "Epoch: 1/1, Batch: 3700/6978, Loss: 6451.640625\n",
      "Epoch: 1/1, Batch: 3800/6978, Loss: 12475.91015625\n",
      "Epoch: 1/1, Batch: 3900/6978, Loss: 10756.3046875\n",
      "Epoch: 1/1, Batch: 4000/6978, Loss: 5825.89794921875\n",
      "Epoch: 1/1, Batch: 4100/6978, Loss: 27016.994140625\n",
      "Epoch: 1/1, Batch: 4200/6978, Loss: 34610.921875\n",
      "Epoch: 1/1, Batch: 4300/6978, Loss: 4001.730224609375\n",
      "Epoch: 1/1, Batch: 4400/6978, Loss: 19540.79296875\n",
      "Epoch: 1/1, Batch: 4500/6978, Loss: 5171.2890625\n",
      "Epoch: 1/1, Batch: 4600/6978, Loss: 16151.8076171875\n",
      "Epoch: 1/1, Batch: 4700/6978, Loss: 6674.66162109375\n",
      "Epoch: 1/1, Batch: 4800/6978, Loss: 12892.8330078125\n",
      "Epoch: 1/1, Batch: 4900/6978, Loss: 28751.599609375\n",
      "Epoch: 1/1, Batch: 5000/6978, Loss: 22409.19140625\n",
      "Epoch: 1/1, Batch: 5100/6978, Loss: 5836.115234375\n",
      "Epoch: 1/1, Batch: 5200/6978, Loss: 4850.23046875\n",
      "Epoch: 1/1, Batch: 5300/6978, Loss: 6414.3662109375\n",
      "Epoch: 1/1, Batch: 5400/6978, Loss: 10439.7392578125\n",
      "Epoch: 1/1, Batch: 5500/6978, Loss: 5286.08740234375\n",
      "Epoch: 1/1, Batch: 5600/6978, Loss: 2669.045166015625\n",
      "Epoch: 1/1, Batch: 5700/6978, Loss: 8634.626953125\n",
      "Epoch: 1/1, Batch: 5800/6978, Loss: 7595.0\n",
      "Epoch: 1/1, Batch: 5900/6978, Loss: 10019.845703125\n",
      "Epoch: 1/1, Batch: 6000/6978, Loss: 7832.150390625\n",
      "Epoch: 1/1, Batch: 6100/6978, Loss: 5349.30224609375\n",
      "Epoch: 1/1, Batch: 6200/6978, Loss: 1967.9368896484375\n",
      "Epoch: 1/1, Batch: 6300/6978, Loss: 9930.33984375\n",
      "Epoch: 1/1, Batch: 6400/6978, Loss: 11653.80078125\n",
      "Epoch: 1/1, Batch: 6500/6978, Loss: 13759.39453125\n",
      "Epoch: 1/1, Batch: 6600/6978, Loss: 10839.078125\n",
      "Epoch: 1/1, Batch: 6700/6978, Loss: 2986.9912109375\n",
      "Epoch: 1/1, Batch: 6800/6978, Loss: 1721.394775390625\n",
      "Epoch: 1/1, Batch: 6900/6978, Loss: 8761.517578125\n",
      "Epoch 1/1, Train Loss: 15292.643742402532\n"
     ]
    }
   ],
   "source": [
    "num_epochs = 1\n",
    "\n",
    "for epoch in range(num_epochs):\n",
    "    model.train()\n",
    "    train_losses = []\n",
    "    for i, data in enumerate(train_dataloader):\n",
    "        inputs, targets = data['image'].to(device), data['target_positions'].to(device)\n",
    "        optimizer.zero_grad()\n",
    "        preds, confidences = model(inputs)\n",
    "        loss = torch.mean(torch.sum(torch.mean(criterion(targets.unsqueeze(1).repeat(1, 3, 1, 1), preds), dim=3), dim=2), dim=1)\n",
    "        weighted_loss = torch.einsum('i,ij->', loss, confidences)\n",
    "        weighted_loss.backward()\n",
    "        optimizer.step()\n",
    "        train_losses.append(weighted_loss.item())\n",
    "        if (i + 1) % 100 == 0:\n",
    "            print(f\"Epoch: {epoch + 1}/{num_epochs}, Batch: {i + 1}/{len(train_dataloader)}, Loss: {weighted_loss.item()}\")\n",
    "\n",
    "    print(f\"Epoch {epoch + 1}/{num_epochs}, Train Loss: {np.mean(train_losses)}\")"
   ]
  },
  {
   "cell_type": "code",
   "execution_count": null,
   "metadata": {},
   "outputs": [],
   "source": [
    "torch.save(model.state_dict(), \"model.pth\")"
   ]
  },
  {
   "cell_type": "code",
   "execution_count": 11,
   "metadata": {},
   "outputs": [
    {
     "name": "stdout",
     "output_type": "stream",
     "text": [
      "Batch: 100/27909\n",
      "Batch: 200/27909\n",
      "Batch: 300/27909\n",
      "Batch: 400/27909\n",
      "Batch: 500/27909\n",
      "Batch: 600/27909\n",
      "Batch: 700/27909\n",
      "Batch: 800/27909\n",
      "Batch: 900/27909\n",
      "Batch: 1000/27909\n",
      "Batch: 1100/27909\n",
      "Batch: 1200/27909\n",
      "Batch: 1300/27909\n",
      "Batch: 1400/27909\n",
      "Batch: 1500/27909\n",
      "Batch: 1600/27909\n",
      "Batch: 1700/27909\n",
      "Batch: 1800/27909\n",
      "Batch: 1900/27909\n",
      "Batch: 2000/27909\n",
      "Batch: 2100/27909\n",
      "Batch: 2200/27909\n",
      "Batch: 2300/27909\n",
      "Batch: 2400/27909\n",
      "Batch: 2500/27909\n",
      "Batch: 2600/27909\n",
      "Batch: 2700/27909\n",
      "Batch: 2800/27909\n",
      "Batch: 2900/27909\n",
      "Batch: 3000/27909\n",
      "Batch: 3100/27909\n",
      "Batch: 3200/27909\n",
      "Batch: 3300/27909\n",
      "Batch: 3400/27909\n",
      "Batch: 3500/27909\n",
      "Batch: 3600/27909\n",
      "Batch: 3700/27909\n",
      "Batch: 3800/27909\n",
      "Batch: 3900/27909\n",
      "Batch: 4000/27909\n",
      "Batch: 4100/27909\n",
      "Batch: 4200/27909\n",
      "Batch: 4300/27909\n",
      "Batch: 4400/27909\n",
      "Batch: 4500/27909\n",
      "Batch: 4600/27909\n",
      "Batch: 4700/27909\n",
      "Batch: 4800/27909\n",
      "Batch: 4900/27909\n",
      "Batch: 5000/27909\n",
      "Batch: 5100/27909\n",
      "Batch: 5200/27909\n",
      "Batch: 5300/27909\n",
      "Batch: 5400/27909\n",
      "Batch: 5500/27909\n",
      "Batch: 5600/27909\n",
      "Batch: 5700/27909\n",
      "Batch: 5800/27909\n",
      "Batch: 5900/27909\n",
      "Batch: 6000/27909\n",
      "Batch: 6100/27909\n",
      "Batch: 6200/27909\n",
      "Batch: 6300/27909\n",
      "Batch: 6400/27909\n",
      "Batch: 6500/27909\n",
      "Batch: 6600/27909\n",
      "Batch: 6700/27909\n"
     ]
    }
   ],
   "source": [
    "model.eval()\n",
    "predictions = []\n",
    "\n",
    "with torch.no_grad():\n",
    "    for i, data in enumerate(test_dataloader):\n",
    "        inputs = data['image'].to(device)\n",
    "        preds, confidences = model(inputs)\n",
    "        preds = preds.cpu().numpy()\n",
    "        confidences = confidences.cpu().numpy()\n",
    "        world_from_agents = data['world_from_agent'].numpy()\n",
    "        centroids = data['centroid'].numpy()\n",
    "        for idx in range(len(preds)):\n",
    "            pred = preds[idx]\n",
    "            confidence = confidences[idx]\n",
    "            for mode in range(len(confidence)):\n",
    "                coords_offset = pred[mode]\n",
    "                coords = transform_points(coords_offset, world_from_agents[idx]) - centroids[idx][:2]\n",
    "                predictions.append((data[\"track_id\"][idx], data[\"timestamp\"][idx], coords, mode, confidence[mode]))\n",
    "        if (i + 1) % 100 == 0:\n",
    "            print(f\"Batch: {i + 1}/{len(test_dataloader)}\")\n",
    "        \n",
    "\n",
    "write_pred_csv('multi_trajectory_predictions.csv', predictions)"
   ]
  },
  {
   "cell_type": "code",
   "execution_count": null,
   "metadata": {},
   "outputs": [
    {
     "data": {
      "image/png": "[encoded data removed]",
      "text/plain": [
       "<Figure size 1000x1000 with 1 Axes>"
      ]
     },
     "metadata": {},
     "output_type": "display_data"
    }
   ],
   "source": [
    "metrics = compute_metrics_csv(\"./multi_trajectory_predictions.csv\", \"./path/to/ground_truth.csv\", [neg_multi_log_likelihood, time_displace])\n",
    "print(metrics)"
   ]
  },
  {
   "cell_type": "code",
   "execution_count": null,
   "metadata": {},
   "outputs": [],
   "source": [
    "# Load ground truth data\n",
    "gt_data = l5kit.data.LocalDataManager(None).get(\"scenes/sample.zarr\")\n",
    "gt_agent_dataset = l5kit.dataset.AgentDataset(cfg, gt_data, rasterizer)\n",
    "\n",
    "def plot_predicted_trajectories(predictions, scene_idx, n_agents=10):\n",
    "    scene = gt_agent_dataset.rasterizer.to_rgb(gt_agent_dataset[scene_idx][\"image\"].transpose(1, 2, 0))\n",
    "    \n",
    "    fig, ax = plt.subplots(1, 1, figsize=(8, 8))\n",
    "    ax.imshow(scene)\n",
    "\n",
    "    # Filter predictions by scene index\n",
    "    scene_predictions = [pred for pred in predictions if pred[1] == gt_agent_dataset[scene_idx][\"timestamp\"]]\n",
    "    for pred in scene_predictions[:n_agents]:\n",
    "        track_id, timestamp, coords, mode, confidence = pred\n",
    "        coords = coords + gt_agent_dataset[scene_idx][\"centroid\"][:2]\n",
    "        ax.plot(coords[:, 0], coords[:, 1], label=f\"Mode {mode} ({confidence:.2f})\")\n",
    "\n",
    "    ax.set_title(f\"Scene {scene_idx}\")\n",
    "    ax.legend(loc=\"upper right\")\n",
    "    plt.show()\n",
    "\n",
    "plot_predicted_trajectories(predictions, scene_idx=0, n_agents=10)"
   ]
  }
 ],
 "metadata": {
  "kernelspec": {
   "display_name": "base",
   "language": "python",
   "name": "python3"
  },
  "language_info": {
   "codemirror_mode": {
    "name": "ipython",
    "version": 3
   },
   "file_extension": ".py",
   "mimetype": "text/x-python",
   "name": "python",
   "nbconvert_exporter": "python",
   "pygments_lexer": "ipython3",
   "version": "3.8.8"
  },
  "orig_nbformat": 4
 },
 "nbformat": 4,
 "nbformat_minor": 2
}
