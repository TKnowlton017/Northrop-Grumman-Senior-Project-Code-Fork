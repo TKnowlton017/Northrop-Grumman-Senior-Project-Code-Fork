{
 "cells": [
  {
   "attachments": {},
   "cell_type": "markdown",
   "metadata": {},
   "source": [
    "#### Library imports / L5Kit setup"
   ]
  },
  {
   "cell_type": "code",
   "execution_count": 3,
   "metadata": {},
   "outputs": [
    {
     "name": "stdout",
     "output_type": "stream",
     "text": [
      "3.8.8 (default, Apr 13 2021, 15:08:03) [MSC v.1916 64 bit (AMD64)]\n"
     ]
    },
    {
     "data": {
      "text/plain": [
       "'1.19.0'"
      ]
     },
     "execution_count": 3,
     "metadata": {},
     "output_type": "execute_result"
    }
   ],
   "source": [
    "# PYTHON VERSION SHOULD BE 3.8.8\n",
    "import sys\n",
    "print(sys.version)\n",
    "\n",
    "# NUMPY VERSION SHOULD BE 1.19.0\n",
    "import numpy as np\n",
    "np.version.version"
   ]
  },
  {
   "cell_type": "code",
   "execution_count": 5,
   "metadata": {},
   "outputs": [],
   "source": [
    "import matplotlib.pyplot as plt\n",
    "\n",
    "from l5kit.data import ChunkedDataset, LocalDataManager\n",
    "from l5kit.dataset import EgoDataset, AgentDataset\n",
    "from l5kit.rasterization import build_rasterizer\n",
    "from l5kit.configs import load_config_data\n",
    "\n",
    "import os"
   ]
  },
  {
   "cell_type": "code",
   "execution_count": 6,
   "metadata": {},
   "outputs": [
    {
     "data": {
      "text/plain": [
       "<l5kit.data.zarr_dataset.ChunkedDataset at 0x22f499ca340>"
      ]
     },
     "execution_count": 6,
     "metadata": {},
     "output_type": "execute_result"
    }
   ],
   "source": [
    "# opening the zarr_dataset\n",
    "# os.environ[\"L5KIT_DATA_FOLDER\"] = \"../../prediction-dataset/\"\n",
    "os.environ[\"L5KIT_DATA_FOLDER\"] = \"../prediction-sample-dataset/\"\n",
    "cfg = load_config_data(\"./visualisation_config.yaml\")\n",
    "dm = LocalDataManager()\n",
    "dataset_path = dm.require(cfg[\"val_data_loader\"][\"key\"])\n",
    "zarr_dataset = ChunkedDataset(dataset_path)\n",
    "zarr_dataset.open()"
   ]
  },
  {
   "cell_type": "code",
   "execution_count": 7,
   "metadata": {},
   "outputs": [],
   "source": [
    "# using EgoDataset interface to extract AV data\n",
    "rast = build_rasterizer(cfg, dm)\n",
    "ego_dataset = EgoDataset(cfg, zarr_dataset, rast)"
   ]
  },
  {
   "cell_type": "code",
   "execution_count": 8,
   "metadata": {},
   "outputs": [],
   "source": [
    "scene_frame_indices = []\n",
    "scene_frame_indices = zarr_dataset.scenes[:][\"frame_index_interval\"]"
   ]
  },
  {
   "attachments": {},
   "cell_type": "markdown",
   "metadata": {},
   "source": [
    "#### Spline functions"
   ]
  },
  {
   "cell_type": "code",
   "execution_count": null,
   "metadata": {},
   "outputs": [],
   "source": [
    "def linearRegression(positions, window_size):\n",
    "    \"\"\"\n",
    "    Use linear regression on the inputted positions data to predict the position in the next timestep\n",
    "\n",
    "    positions -- 2D-array of the position data in the format [[x0, y0], [x1,y1], ...]\n",
    "    window_size -- describes how many of the latest data points to use to predict the next timestep\n",
    "    \"\"\"\n",
    "    predictions = []\n",
    "    for i in range(window_size, len(positions) - 1):\n",
    "        # use linear regression to predict next x-position\n",
    "        # use linear regression to predict next y-position\n",
    "        # combine results into predictions array\n",
    "        pass\n",
    "    return predictions"
   ]
  },
  {
   "cell_type": "code",
   "execution_count": null,
   "metadata": {},
   "outputs": [],
   "source": [
    "def multivariateRegression(positions):\n",
    "    pass\n",
    "\n",
    "# timeseries\n",
    "# p auto regressive\n",
    "# CI"
   ]
  },
  {
   "attachments": {},
   "cell_type": "markdown",
   "metadata": {},
   "source": [
    "#### Plotting functions"
   ]
  },
  {
   "cell_type": "code",
   "execution_count": null,
   "metadata": {},
   "outputs": [],
   "source": [
    "def plotData(positions, predictions):\n",
    "    \n",
    "    positions_x = [position[0] for position in positions]\n",
    "    positions_y = [position[1] for position in positions]\n",
    "\n",
    "    predictions_x = [position[0] for position in predictions]\n",
    "    predictions_y = [position[1] for position in predictions]\n",
    "\n",
    "    fig, axs = plt.subplots(1, 2, figsize=(12, 5))\n",
    "\n",
    "    ax = plt.subplot(1, 2, 1)\n",
    "    ax.scatter(positions_x, positions_y, label=\"Positions\", s=5, alpha=1, color='c')\n",
    "    ax.legend()\n",
    "    ax.set_title(\"Position Data\")\n",
    "    ax.set_xlabel(\"Position (m)\")\n",
    "    ax.set_ylabel(\"Position (m)\")\n",
    "\n",
    "    ax1 = plt.subplot(1, 3, 2)\n",
    "    ax1.scatter(positions_x, positions_y, label=\"Positions\", s=5, alpha=0.6, color='c')\n",
    "    ax1.scatter(predictions_x, predictions_y, label=\"Predictions\", s=5, alpha=0.4, color='m')\n",
    "    ax1.legend()\n",
    "    ax1.set_title(\"Basic Kalman Filter\")\n",
    "    \n",
    "    # https://stackoverflow.com/questions/38855748/matplotlib-generating-strange-y-axis-on-certain-data-sets\n",
    "    ax.get_yaxis().get_major_formatter().set_useOffset(False)\n",
    "    ax1.get_yaxis().get_major_formatter().set_useOffset(False)\n",
    "\n",
    "    plt.tight_layout()\n",
    "    plt.show()"
   ]
  },
  {
   "cell_type": "code",
   "execution_count": 11,
   "metadata": {},
   "outputs": [],
   "source": [
    "def compareFilters(scene_number):\n",
    "    positions = zarr_dataset.frames[slice(scene_frame_indices[scene_number][0], scene_frame_indices[scene_number][1])][\"ego_translation\"]\n",
    "    positions = [[pos[0], pos[1]] for pos in positions]\n",
    "    print(positions)\n",
    "    predictions = linearRegression(positions)\n",
    "    \n",
    "    #plotData(positions, predictions)"
   ]
  },
  {
   "cell_type": "code",
   "execution_count": 13,
   "metadata": {},
   "outputs": [],
   "source": [
    "# compareFilters(0)"
   ]
  }
 ],
 "metadata": {
  "kernelspec": {
   "display_name": "base",
   "language": "python",
   "name": "python3"
  },
  "language_info": {
   "codemirror_mode": {
    "name": "ipython",
    "version": 3
   },
   "file_extension": ".py",
   "mimetype": "text/x-python",
   "name": "python",
   "nbconvert_exporter": "python",
   "pygments_lexer": "ipython3",
   "version": "3.8.8"
  },
  "orig_nbformat": 4,
  "vscode": {
   "interpreter": {
    "hash": "8e7af5626c7e654314ce176c299bd4d61dd6a36e86a9674195997ac339225326"
   }
  }
 },
 "nbformat": 4,
 "nbformat_minor": 2
}
